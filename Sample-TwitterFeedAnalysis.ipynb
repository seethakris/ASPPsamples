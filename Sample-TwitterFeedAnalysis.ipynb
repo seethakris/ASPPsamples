{
 "cells": [
  {
   "cell_type": "markdown",
   "metadata": {},
   "source": [
    "# Parsing through a CSV file\n",
    "\n",
    "Example exercises to read through a csv file holding informaton about twitter feeds\n",
    "\n",
    "### Sample1 : Find percentage of tweeting from a specific country"
   ]
  },
  {
   "cell_type": "code",
   "execution_count": 152,
   "metadata": {
    "code_folding": []
   },
   "outputs": [],
   "source": [
    "import csv\n",
    "\n",
    "\n",
    "def line2array(line):\n",
    "    return line.rstrip().split(',')\n",
    "\n",
    "\n",
    "def get_twitter_data(csv_fname):  # Open csv file\n",
    "    print('reading data')\n",
    "    with open(csv_fname, 'r') as f:\n",
    "        csvreader = csv.reader(f)\n",
    "        for line in csvreader:\n",
    "            yield line\n",
    "\n",
    "\n",
    "def get_userlocation(array_iter):  # Get array holding user location info\n",
    "    print('getting location of tweet')\n",
    "    for i, arr in enumerate(array_iter):\n",
    "        yield arr[2]\n",
    "\n",
    "\n",
    "def count_tweets(array_iter, country='Australia'):\n",
    "    count_country = 0\n",
    "    count_tweets = 0\n",
    "\n",
    "    for i, arr in enumerate(array_iter):\n",
    "        if i > 0:  # Skip header row\n",
    "            count_tweets += 1\n",
    "            if arr.find(country) >= 0:\n",
    "                print('Tweet from {} in {}!'.format(country, arr))\n",
    "                count_country += 1\n",
    "\n",
    "    print('done searching')\n",
    "    percentage_tweets = (count_country / float(count_tweets)) * 100\n",
    "    print('Total tweets {}'.format(count_tweets))\n",
    "    print('Percentage of tweets from {} = {}'.format(country, percentage_tweets))\n",
    "    return count_country"
   ]
  },
  {
   "cell_type": "code",
   "execution_count": 153,
   "metadata": {},
   "outputs": [
    {
     "name": "stdout",
     "output_type": "stream",
     "text": [
      "reading data\n",
      "['Tweet', 'TwitterHandle', 'UserLocation', 'DateCreated', 'NumberofRetweets']\n"
     ]
    }
   ],
   "source": [
    "filename = \"twitterfeed.csv\"\n",
    "itertweet = iter(get_twitter_data(filename))\n",
    "headerrows = next(itertweet)  #First row is header\n",
    "print(headerrows)"
   ]
  },
  {
   "cell_type": "code",
   "execution_count": 154,
   "metadata": {},
   "outputs": [
    {
     "name": "stdout",
     "output_type": "stream",
     "text": [
      "getting location of tweet\n",
      "reading data\n",
      "Tweet from Australia in Melbourne, Australia!\n",
      "Tweet from Australia in Melbourne, Australia!\n",
      "done searching\n",
      "Total tweets 486\n",
      "Percentage of tweets from Australia = 0.411522633744856\n"
     ]
    }
   ],
   "source": [
    "filename = \"twitterfeed.csv\"\n",
    "count_tweets(get_userlocation(get_twitter_data(filename)));"
   ]
  },
  {
   "cell_type": "markdown",
   "metadata": {},
   "source": [
    "### Get data from multiple countries ( and plot a bar graph?)"
   ]
  },
  {
   "cell_type": "code",
   "execution_count": 155,
   "metadata": {},
   "outputs": [],
   "source": [
    "#Count tweets from multiple locations\n",
    "def count_tweets_by_location(array_iter, countrylist):\n",
    "    countdict = {key: 0 for key in countrylist}\n",
    "    for i, arr in enumerate(array_iter):\n",
    "        for country in countrylist:\n",
    "            if i > 0:  # Skip header row\n",
    "                if arr.find(country) >= 0:\n",
    "                    countdict[country] += 1\n",
    "\n",
    "    print('done searching')\n",
    "    print(countdict)\n",
    "    return countdict"
   ]
  },
  {
   "cell_type": "code",
   "execution_count": 158,
   "metadata": {},
   "outputs": [
    {
     "name": "stdout",
     "output_type": "stream",
     "text": [
      "getting location of tweet\n",
      "reading data\n",
      "done searching\n",
      "{'USA': 14, 'India': 8, 'UK': 4, 'Australia': 2}\n"
     ]
    }
   ],
   "source": [
    "filename = \"twitterfeed.csv\"\n",
    "tweet_by_country = count_tweets_by_location(get_userlocation(\n",
    "    get_twitter_data(filename)), countrylist=['USA', 'India', 'UK', 'Australia'])"
   ]
  },
  {
   "cell_type": "code",
   "execution_count": 166,
   "metadata": {},
   "outputs": [
    {
     "data": {
      "text/plain": [
       "Text(0,0.5,'Number of tweets')"
      ]
     },
     "execution_count": 166,
     "metadata": {},
     "output_type": "execute_result"
    },
    {
     "data": {
      "image/png": "[encoded data removed]",
      "text/plain": [
       "<matplotlib.figure.Figure at 0x11ac476d8>"
      ]
     },
     "metadata": {},
     "output_type": "display_data"
    }
   ],
   "source": [
    "import matplotlib.pyplot as plt\n",
    "%matplotlib inline\n",
    "\n",
    "plt.bar(range(len(tweet_by_country)), list(tweet_by_country.values()), align='center');\n",
    "plt.xticks(range(len(tweet_by_country)), list(tweet_by_country.keys()));\n",
    "plt.ylabel('Number of tweets')"
   ]
  },
  {
   "cell_type": "markdown",
   "metadata": {},
   "source": [
    "Other Samples : Number of options available:\n",
    "\n",
    "1. Number of tweets in last 5 minutes\n",
    "2. Number of average characters tweeted on a topic (topics : Python, neuroscience, Trump!?)\n",
    "3. Correlate average characters with country of origin"
   ]
  },
  {
   "cell_type": "code",
   "execution_count": null,
   "metadata": {
    "collapsed": true
   },
   "outputs": [],
   "source": []
  }
 ],
 "metadata": {
  "kernelspec": {
   "display_name": "Python 3",
   "language": "python",
   "name": "python3"
  },
  "language_info": {
   "codemirror_mode": {
    "name": "ipython",
    "version": 3
   },
   "file_extension": ".py",
   "mimetype": "text/x-python",
   "name": "python",
   "nbconvert_exporter": "python",
   "pygments_lexer": "ipython3",
   "version": "3.6.3"
  }
 },
 "nbformat": 4,
 "nbformat_minor": 2
}
