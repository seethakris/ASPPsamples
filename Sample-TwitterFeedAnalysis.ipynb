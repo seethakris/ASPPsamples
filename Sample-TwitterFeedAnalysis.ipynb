{
 "cells": [
  {
   "cell_type": "markdown",
   "metadata": {},
   "source": [
    "# Parsing through a CSV file\n",
    "\n",
    "Example exercises to read through a csv file holding informaton about twitter feeds\n",
    "\n",
    "### Sample1 : Find percentage of tweeting from a specific country"
   ]
  },
  {
   "cell_type": "code",
   "execution_count": 131,
   "metadata": {
    "code_folding": []
   },
   "outputs": [],
   "source": [
    "import csv\n",
    "\n",
    "\n",
    "def line2array(line):\n",
    "    return line.rstrip().split(',')\n",
    "\n",
    "\n",
    "def get_twitter_data(csv_fname): #Open csv file\n",
    "    print('reading data')\n",
    "    with open(csv_fname, 'r') as f:\n",
    "        csvreader = csv.reader(f)\n",
    "        for line in csvreader:\n",
    "            yield line\n",
    "\n",
    "\n",
    "def get_userlocation(array_iter):  # Get array holding user location info\n",
    "    print('getting location of tweet')\n",
    "    for i, arr in enumerate(array_iter):\n",
    "        yield arr[2]\n",
    "\n",
    "\n",
    "def count_number(array_iter, country='Australia'):\n",
    "    count_country = 0\n",
    "    count_tweets = 0\n",
    "\n",
    "    for i, arr in enumerate(array_iter):\n",
    "        if i > 0: #Skip header row\n",
    "            count_tweets += 1\n",
    "            if arr.find(country) >= 0: \n",
    "                print('Tweet from {} in {}!'.format(country, arr))\n",
    "                count_country += 1\n",
    "\n",
    "    print('done searching')\n",
    "    percentage_tweets = (count_country / float(count_tweets)) * 100\n",
    "    print('Total tweets {}'.format(count_tweets))\n",
    "    print('Percentage of tweets from {} = {}'.format(country, percentage_tweets))\n",
    "    return count_country"
   ]
  },
  {
   "cell_type": "code",
   "execution_count": 132,
   "metadata": {},
   "outputs": [
    {
     "name": "stdout",
     "output_type": "stream",
     "text": [
      "reading data\n",
      "['Tweet', 'TwitterHandle', 'UserLocation', 'DateCreated', 'NumberofRetweets']\n"
     ]
    }
   ],
   "source": [
    "filename = \"twitterfeed.csv\"\n",
    "itertweet = iter(get_twitter_data(filename))\n",
    "headerrows = next(itertweet)  #First row is header\n",
    "print(headerrows)"
   ]
  },
  {
   "cell_type": "code",
   "execution_count": 133,
   "metadata": {},
   "outputs": [
    {
     "name": "stdout",
     "output_type": "stream",
     "text": [
      "getting location of tweet\n",
      "reading data\n",
      "Tweet from Australia in Melbourne, Australia!\n",
      "Tweet from Australia in Melbourne, Australia!\n",
      "done searching\n",
      "Total tweets 486\n",
      "Percentage of tweets from Australia = 0.411522633744856\n"
     ]
    }
   ],
   "source": [
    "filename = \"twitterfeed.csv\"\n",
    "count_number(get_userlocation(get_twitter_data(filename)));"
   ]
  },
  {
   "cell_type": "markdown",
   "metadata": {},
   "source": [
    "### Sample2 : Count number of tweets that arrived in last 5 minutes"
   ]
  },
  {
   "cell_type": "code",
   "execution_count": null,
   "metadata": {
    "collapsed": true
   },
   "outputs": [],
   "source": []
  }
 ],
 "metadata": {
  "kernelspec": {
   "display_name": "Python 3",
   "language": "python",
   "name": "python3"
  },
  "language_info": {
   "codemirror_mode": {
    "name": "ipython",
    "version": 3
   },
   "file_extension": ".py",
   "mimetype": "text/x-python",
   "name": "python",
   "nbconvert_exporter": "python",
   "pygments_lexer": "ipython3",
   "version": "3.6.3"
  }
 },
 "nbformat": 4,
 "nbformat_minor": 2
}
