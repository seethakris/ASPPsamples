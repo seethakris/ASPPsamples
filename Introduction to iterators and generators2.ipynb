{
 "cells": [
  {
   "cell_type": "markdown",
   "metadata": {},
   "source": [
    "# Understanding Iterators and (mostly) Generators\n",
    "Seetha Krishnan\n",
    "<br>\n",
    "ASPP - Asia Pacific 2018"
   ]
  },
  {
   "cell_type": "markdown",
   "metadata": {},
   "source": [
    "## Iterators\n",
    "Iterators are everywhere. \n",
    "An iterator is simply an object that can be iterated upon, say using a `for` loop\n",
    "\n",
    "In this extremely simple example, the __range(4)__ is the iterable object which at each iteration provides a different value to the __\"i\"__ variable."
   ]
  },
  {
   "cell_type": "code",
   "execution_count": 1,
   "metadata": {},
   "outputs": [
    {
     "name": "stdout",
     "output_type": "stream",
     "text": [
      "0\n",
      "1\n",
      "2\n",
      "3\n"
     ]
    }
   ],
   "source": [
    "for i in range(4):\n",
    "    print(i)"
   ]
  },
  {
   "cell_type": "markdown",
   "metadata": {},
   "source": [
    "You can iterate over strings, lists, files, dictionaries etc"
   ]
  },
  {
   "cell_type": "code",
   "execution_count": 2,
   "metadata": {},
   "outputs": [
    {
     "name": "stdout",
     "output_type": "stream",
     "text": [
      "0 > This is one of those text files\n",
      "\n",
      "1 > That you may think contains the secret to life and happiness\n",
      "\n",
      "2 > In reality, this contains nothing\n",
      "\n",
      "3 > Yes, I am certain this is the last line of the text\n",
      "\n",
      "4 > Ok I lied, this is the last line. There is nothing more\n",
      "\n"
     ]
    }
   ],
   "source": [
    "# Iterate over lines of a file\n",
    "filename = 'sometextIwrote.txt'\n",
    "f = open(filename, 'r')\n",
    "for linenumber, lines in enumerate(f):\n",
    "    print('{} > {}'.format(linenumber, lines))\n",
    "f.close()\n",
    "# Enumerate is one of those super cool in-built python functions that\n",
    "# allows you to loop over an object and have an automatic counter"
   ]
  },
  {
   "cell_type": "markdown",
   "metadata": {},
   "source": [
    "__Sidenote__ :  The proper way to open and close a file is not like the above example, but using a `with` statement, which takes care of opening and closing a file <br>(These are called Context Managers, we will talk more about them later)"
   ]
  },
  {
   "cell_type": "code",
   "execution_count": 3,
   "metadata": {},
   "outputs": [
    {
     "name": "stdout",
     "output_type": "stream",
     "text": [
      "0 > This is one of those text files\n",
      "\n",
      "1 > That you may think contains the secret to life and happiness\n",
      "\n",
      "2 > In reality, this contains nothing\n",
      "\n",
      "3 > Yes, I am certain this is the last line of the text\n",
      "\n",
      "4 > Ok I lied, this is the last line. There is nothing more\n",
      "\n"
     ]
    }
   ],
   "source": [
    "with open(filename) as f:\n",
    "    for linenumber, lines in enumerate(f):\n",
    "        print('{} > {}'.format(linenumber, lines))"
   ]
  },
  {
   "cell_type": "markdown",
   "metadata": {},
   "source": [
    "#### Underneath the covers is a specific protocol:\n",
    "iter : This returns the iterator object itself\n",
    "<br>next() : This returns the next value. \n",
    "<br>_StopIteration_ error once all the objects have been looped through.\n",
    "\n",
    "If you want to know how to write an iterator from scratch, refer to some of these tutorials\n",
    "<br>https://www.programiz.com/python-programming/iterator\n",
    "<br>http://anandology.com/python-practice-book/iterators.html"
   ]
  },
  {
   "cell_type": "code",
   "execution_count": 4,
   "metadata": {},
   "outputs": [
    {
     "name": "stdout",
     "output_type": "stream",
     "text": [
      "<range_iterator object at 0x10cb6a1e0>\n"
     ]
    }
   ],
   "source": [
    "it = iter(range(4))\n",
    "print(it)"
   ]
  },
  {
   "cell_type": "code",
   "execution_count": 5,
   "metadata": {},
   "outputs": [
    {
     "name": "stdout",
     "output_type": "stream",
     "text": [
      "0\n"
     ]
    }
   ],
   "source": [
    "print(next(it))  # Run this multiple times"
   ]
  },
  {
   "cell_type": "markdown",
   "metadata": {},
   "source": [
    "## Generators\n",
    "Generators are a simple, yet elegant type of iterators. A generator produces a sequence of results, not just a single value\n",
    "\n",
    "__To create generators:__ \n",
    "- Define a function\n",
    "- instead of the return statement, use the __yield__ keyword. "
   ]
  },
  {
   "cell_type": "code",
   "execution_count": 6,
   "metadata": {},
   "outputs": [],
   "source": [
    "# Count number of words per line of csv file\n",
    "def readtxt(filename):\n",
    "    with open(filename) as fin:\n",
    "        for line in fin:\n",
    "            yield line\n",
    "\n",
    "\n",
    "def countwords(linearray):\n",
    "    for i, line in enumerate(linearray):\n",
    "        yield i, len(line.split())"
   ]
  },
  {
   "cell_type": "markdown",
   "metadata": {},
   "source": [
    "You will typically use generator functions as an __iterator object__"
   ]
  },
  {
   "cell_type": "code",
   "execution_count": 7,
   "metadata": {},
   "outputs": [
    {
     "name": "stdout",
     "output_type": "stream",
     "text": [
      "Number of words in line 0 is 7\n",
      "Number of words in line 1 is 11\n",
      "Number of words in line 2 is 5\n",
      "Number of words in line 3 is 12\n",
      "Number of words in line 4 is 12\n"
     ]
    }
   ],
   "source": [
    "filename = 'sometextIwrote.txt'\n",
    "for i, n in countwords(readtxt(filename)):\n",
    "    print('Number of words in line {} is {}'.format(i, n))"
   ]
  },
  {
   "cell_type": "code",
   "execution_count": 8,
   "metadata": {},
   "outputs": [
    {
     "name": "stdout",
     "output_type": "stream",
     "text": [
      "<generator object readtxt at 0x10cb17b48>\n"
     ]
    }
   ],
   "source": [
    "g = readtxt(filename)\n",
    "print(g)"
   ]
  },
  {
   "cell_type": "code",
   "execution_count": 9,
   "metadata": {},
   "outputs": [
    {
     "data": {
      "text/plain": [
       "'This is one of those text files\\n'"
      ]
     },
     "execution_count": 9,
     "metadata": {},
     "output_type": "execute_result"
    }
   ],
   "source": [
    "next(g)"
   ]
  },
  {
   "cell_type": "markdown",
   "metadata": {},
   "source": [
    "### Whats so great about a generator? \n",
    "- Generators allow you to iterate over some data __lazily__ without loading the entire data source into memory at once.  (Great for large datasets!)\n",
    "- When functions `return`, they are done for good. Not generators.\n",
    "- Functions always start from the first line, generators start where you left off : at __yield__ "
   ]
  },
  {
   "cell_type": "markdown",
   "metadata": {},
   "source": [
    "### Exercise 1 \n",
    "Multiple CSV files stored in a directory, contain information of x-y position of a swimming zebrafish across time.\n",
    "<br>__The task:__\n",
    "1. Loop through each csv file, acquire the x and y position and find distance travelled by the fish at each time point.\n",
    "2. To find distance travelled between two timepoints, you need to get the x and y position of fish at two consecutive frames.\n",
    "3. Using the acquired distance travelled, print time spent by the fish at a speed below the threshold. "
   ]
  },
  {
   "cell_type": "markdown",
   "metadata": {},
   "source": [
    "  <img src=\"files/fish.png\"  width=\"400\" >"
   ]
  },
  {
   "cell_type": "code",
   "execution_count": 10,
   "metadata": {},
   "outputs": [],
   "source": [
    "import csv\n",
    "import os\n",
    "\n",
    "# Step 1 : Grab CSV files from a directory\n",
    "\n",
    "\n",
    "def CSVfileGrabber(dirname):\n",
    "    for filename in os.listdir(dirname):\n",
    "        if filename.endswith('.csv'):\n",
    "            print('Working on: {}'.format(filename[:5]))  # Print name of fish\n",
    "            yield os.path.join(dirname, filename)\n",
    "\n",
    "# Step 2 : read the csv files line by line\n",
    "\n",
    "\n",
    "def readcsv(filename):\n",
    "    with open(filename) as f:\n",
    "        # An extra step here using the built in csv library\n",
    "        # to get a reader object that can be iterated over\n",
    "        csvreader = csv.reader(f)\n",
    "        for i, line in enumerate(csvreader):\n",
    "            # Skip a few lines\n",
    "            if i < 10:\n",
    "                continue\n",
    "            else:\n",
    "                yield line\n",
    "\n",
    "# Step 3 : get x and y coordinates\n",
    "\n",
    "\n",
    "def getxy(linearray):\n",
    "    for i in linearray:\n",
    "        # x and y coordinates are in the 3rd and 4th column respectively\n",
    "        yield [int(i[2]), int(i[3])]"
   ]
  },
  {
   "cell_type": "code",
   "execution_count": 11,
   "metadata": {},
   "outputs": [
    {
     "name": "stdout",
     "output_type": "stream",
     "text": [
      "Working on: Fish1\n",
      "Parsed lines from this csv file is 17\n",
      "Working on: Fish2\n",
      "Parsed lines from this csv file is 17\n"
     ]
    }
   ],
   "source": [
    "dirname = '/Users/seetha/Desktop/Microbetest/ExampleFile/'\n",
    "\n",
    "# Just to make sure things are working\n",
    "for files in CSVfileGrabber(dirname):\n",
    "    numline = 0\n",
    "    for g in getxy(readcsv(files)):\n",
    "        #         print(g)\n",
    "        numline += 1\n",
    "    print('Parsed lines from this csv file is {}'.format(numline))"
   ]
  },
  {
   "cell_type": "code",
   "execution_count": 12,
   "metadata": {
    "collapsed": true
   },
   "outputs": [],
   "source": [
    "# Step 4: get consecutive xy\n",
    "\n",
    "\n",
    "def consecutivexy1(linearray):\n",
    "    # Here we want to get two consecutive xy to get speed/frame\n",
    "    # Make use of the next keyword\n",
    "    for i, line in enumerate(linearray):\n",
    "        if i == 0:\n",
    "            prevxy = line\n",
    "            nextxy = next(linearray)\n",
    "        else:\n",
    "            prevxy = nextxy\n",
    "            nextxy = line\n",
    "        yield prevxy, nextxy"
   ]
  },
  {
   "cell_type": "code",
   "execution_count": 13,
   "metadata": {},
   "outputs": [],
   "source": [
    "# A nice way is to use itertools (which is an amazing library for looping of iterators)\n",
    "from itertools import tee\n",
    "\n",
    "\n",
    "def consecutivexy2(linearray):\n",
    "    # This makes two copies of the same iterable\n",
    "    prevxy, nextxy = tee(linearray, 2)\n",
    "    next(nextxy)  # discard one\n",
    "    yield from zip(prevxy, nextxy)  # Note this cool keyword here 'yield from'"
   ]
  },
  {
   "cell_type": "markdown",
   "metadata": {},
   "source": [
    "#### Sidenote : `yield from`\n",
    "With `yield from`, we can skip an extra `for` loop"
   ]
  },
  {
   "cell_type": "raw",
   "metadata": {},
   "source": [
    "yield from sequence\n",
    "\n",
    "#is same as\n",
    "\n",
    "for elem in sequence:\n",
    "    yield elem"
   ]
  },
  {
   "cell_type": "code",
   "execution_count": 14,
   "metadata": {},
   "outputs": [
    {
     "name": "stdout",
     "output_type": "stream",
     "text": [
      "(0, 6)\n",
      "(1, 7)\n",
      "(2, 8)\n",
      "(3, 9)\n",
      "(4, 10)\n"
     ]
    }
   ],
   "source": [
    "# A simple example to see what the yield from function will do \n",
    "A = range(5)\n",
    "B = range(6, 11)\n",
    "\n",
    "def temp(A, B):\n",
    "    for a, b in zip(A, B):\n",
    "        yield a, b\n",
    "            \n",
    "for i in temp(A, B): \n",
    "    print(i)\n",
    "# Two loops!! You need two loops!!"
   ]
  },
  {
   "cell_type": "code",
   "execution_count": 15,
   "metadata": {},
   "outputs": [
    {
     "name": "stdout",
     "output_type": "stream",
     "text": [
      "(0, 6)\n",
      "(1, 7)\n",
      "(2, 8)\n",
      "(3, 9)\n",
      "(4, 10)\n"
     ]
    }
   ],
   "source": [
    "# After Python 3.3\n",
    "def yieldfromexample(A, B):\n",
    "    yield from zip(A, B)\n",
    "for i in yieldfromexample(A, B):\n",
    "    print(i)"
   ]
  },
  {
   "cell_type": "code",
   "execution_count": 16,
   "metadata": {},
   "outputs": [
    {
     "name": "stdout",
     "output_type": "stream",
     "text": [
      "Working on: Fish1\n",
      "Parsed lines from this csv file is 16\n",
      "Working on: Fish2\n",
      "Parsed lines from this csv file is 16\n"
     ]
    }
   ],
   "source": [
    "# Just to make sure things are working\n",
    "for files in CSVfileGrabber(dirname):\n",
    "    numline = 0\n",
    "    for x, y in consecutivexy1(getxy(readcsv(files))):\n",
    "        #         print(x, y)\n",
    "        numline += 1\n",
    "    print('Parsed lines from this csv file is {}'.format(numline))"
   ]
  },
  {
   "cell_type": "markdown",
   "metadata": {},
   "source": [
    "## Write the next parts on your own\n",
    "- Step 5 : Calculate distance between the two consecutive points\n",
    "- Step 6 : Put it all together"
   ]
  },
  {
   "cell_type": "code",
   "execution_count": 17,
   "metadata": {},
   "outputs": [],
   "source": [
    "# Step 5: Calculate euclidean distance\n",
    "import math\n",
    "\n",
    "\n",
    "def getdist(xy):\n",
    "    # Loop through the generator here\n",
    "    # Euclidean distance calculation:\n",
    "    dist = [(a - b)**2 for a, b in zip(prevxy, nextxy)]\n",
    "    dist = math.sqrt(sum(dist))\n",
    "    # Yield distance here"
   ]
  },
  {
   "cell_type": "code",
   "execution_count": 18,
   "metadata": {
    "collapsed": true
   },
   "outputs": [],
   "source": [
    "# Step 6: Put it all together\n",
    "\n",
    "\n",
    "def getframes(dist, threshold, frames_per_sec):\n",
    "    # Count frames with distance below a threshold and\n",
    "    # give input to the print statement given below\n",
    "\n",
    "    print('Of {:0.2f} seconds recording time, time spent with speed less than {} is {:0.2f} seconds').format()"
   ]
  },
  {
   "cell_type": "code",
   "execution_count": 22,
   "metadata": {},
   "outputs": [
    {
     "name": "stdout",
     "output_type": "stream",
     "text": [
      "Working on: Fish1\n",
      "Of 16.267 seconds recording time, time spent with speed less than 10 is 12.833 seconds\n",
      "Working on: Fish6\n",
      "Of 16.267 seconds recording time, time spent with speed less than 10 is 15.133 seconds\n"
     ]
    }
   ],
   "source": [
    "# Try this folder with more data\n",
    "dirname = '/Users/seetha/Desktop/Microbetest/Collective/'\n",
    "for files in CSVfileGrabber(dirname):\n",
    "    getframes(\n",
    "        getdist(\n",
    "            consecutivexy1(\n",
    "                getxy(readcsv(files)))), threshold=10, frames_per_sec=30)"
   ]
  },
  {
   "cell_type": "code",
   "execution_count": null,
   "metadata": {
    "collapsed": true
   },
   "outputs": [],
   "source": []
  }
 ],
 "metadata": {
  "kernelspec": {
   "display_name": "Python 3",
   "language": "python",
   "name": "python3"
  },
  "language_info": {
   "codemirror_mode": {
    "name": "ipython",
    "version": 3
   },
   "file_extension": ".py",
   "mimetype": "text/x-python",
   "name": "python",
   "nbconvert_exporter": "python",
   "pygments_lexer": "ipython3",
   "version": "3.6.3"
  }
 },
 "nbformat": 4,
 "nbformat_minor": 2
}
