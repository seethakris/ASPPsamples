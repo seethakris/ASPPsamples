{
 "cells": [
  {
   "cell_type": "markdown",
   "metadata": {},
   "source": [
    "# Understanding Iterators and (mostly) Generators\n",
    "Seetha Krishnan\n",
    "<br>\n",
    "ASPP - Asia Pacific 2018"
   ]
  },
  {
   "cell_type": "markdown",
   "metadata": {},
   "source": [
    "## Iterators\n",
    "Iterators are everywhere. \n",
    "An iterator is simply an object that can be iterated upon, say using a `for` loop\n",
    "\n",
    "In this extremely simple example, the __range(4)__ is the iterable object which at each iteration provides a different value to the __\"i\"__ variable."
   ]
  },
  {
   "cell_type": "code",
   "execution_count": 16,
   "metadata": {},
   "outputs": [
    {
     "name": "stdout",
     "output_type": "stream",
     "text": [
      "0\n",
      "1\n",
      "2\n",
      "3\n"
     ]
    }
   ],
   "source": [
    "for i in range(4):\n",
    "    print(i)"
   ]
  },
  {
   "cell_type": "markdown",
   "metadata": {},
   "source": [
    "You can iterate over strings, lists, files, dictionaries etc"
   ]
  },
  {
   "cell_type": "code",
   "execution_count": 79,
   "metadata": {
    "code_folding": []
   },
   "outputs": [
    {
     "name": "stdout",
     "output_type": "stream",
     "text": [
      "0 > This is one of those text files\n",
      "\n",
      "1 > That you may think contains the secret to life and happiness\n",
      "\n",
      "2 > In reality, this contains nothing\n",
      "\n",
      "3 > Yes, I am certain this is the last line of the text\n",
      "\n",
      "4 > Ok I lied, this is the last line. There is nothing more\n",
      "\n"
     ]
    }
   ],
   "source": [
    "import numpy as np\n",
    "\n",
    "filename = 'sometextIwrote.txt'\n",
    "f = open(filename, 'r') #Open file\n",
    "# When you iterate over a text file, you get lines\n",
    "for linenumber, lines in enumerate(f):\n",
    "    print(f'{linenumber} > {lines}')\n",
    "f.close()"
   ]
  },
  {
   "cell_type": "markdown",
   "metadata": {},
   "source": [
    "Most of the time you can get away with iterating over objects, storing them and analysing. But things can quickly get out of hand if you have a large data or multiple loops\n",
    "\n",
    "__For Example__: \n",
    "- You have a large csv file (15 GB). If I ask you to find mean number of characters, how would you do it?\n",
    "- "
   ]
  },
  {
   "cell_type": "markdown",
   "metadata": {},
   "source": [
    "## Generators\n",
    "Generators are a simple, yet elegant type of iterators.\n",
    "\n",
    "__To create generators:__ \n",
    "- Define a function\n",
    "- instead of the return statement, use the __yield__ keyword. "
   ]
  },
  {
   "cell_type": "code",
   "execution_count": 73,
   "metadata": {
    "code_folding": [],
    "collapsed": true,
    "run_control": {
     "marked": false
    }
   },
   "outputs": [],
   "source": [
    "def charcount(filename):\n",
    "    \"\"\" Generator function that reads lines and  yields the line and characters in each line \"\"\"\n",
    "    with open(filename) as fin:\n",
    "        for linenumber, lines in enumerate(fin):\n",
    "            yield lines, len(lines)"
   ]
  },
  {
   "cell_type": "code",
   "execution_count": 74,
   "metadata": {
    "run_control": {
     "marked": false
    }
   },
   "outputs": [
    {
     "name": "stdout",
     "output_type": "stream",
     "text": [
      "<generator object charcount at 0x113777a98>\n"
     ]
    }
   ],
   "source": [
    "c = charcount(filename='sometextIwrote.txt')\n",
    "print(c)"
   ]
  },
  {
   "cell_type": "markdown",
   "metadata": {},
   "source": [
    "A generator does not hold anything in memory\n",
    "<br>It \"yields\" one result at a time and hasnt computed anything till you ask for the value - by saying next"
   ]
  },
  {
   "cell_type": "code",
   "execution_count": 75,
   "metadata": {},
   "outputs": [],
   "source": [
    "c1 = next(c)"
   ]
  },
  {
   "cell_type": "code",
   "execution_count": 76,
   "metadata": {
    "code_folding": [
     3
    ]
   },
   "outputs": [
    {
     "name": "stdout",
     "output_type": "stream",
     "text": [
      "('This is one of those text files\\n', 32)\n"
     ]
    }
   ],
   "source": [
    "print(c1)"
   ]
  },
  {
   "cell_type": "markdown",
   "metadata": {},
   "source": [
    "Instead of calling next every time, you will typically use generator functions as an __iterator object__"
   ]
  },
  {
   "cell_type": "code",
   "execution_count": 67,
   "metadata": {
    "run_control": {
     "marked": false
    }
   },
   "outputs": [
    {
     "name": "stdout",
     "output_type": "stream",
     "text": [
      "> This is one of those text files char count: 32\n",
      "> That you may think contains the secret to life and happiness char count: 61\n",
      "> In reality, this contains nothing char count: 34\n",
      "> Yes, I am certain this is the last line of the text char count: 52\n",
      "> Ok I lied, this is the last line. There is nothing more char count: 56\n"
     ]
    }
   ],
   "source": [
    "c = charcount(filename='sometextIwrote.txt')\n",
    "for l in c:\n",
    "    print(f'> {l[0][:-1]} char count: {l[1]}')"
   ]
  },
  {
   "cell_type": "markdown",
   "metadata": {},
   "source": [
    "### Task1\n",
    "- Define a second generator that yields the number of words in each line\n",
    "- Use charcount(filename) as an input to this generator\n",
    "- output print statement should include (linenumber, charcount and word count)\n",
    "\n",
    "Tip : What I like to do when writing a generator is to print statements instead of yield.\n",
    "When I am satisfied with the accuracy of the print statement, I convert it to yield"
   ]
  },
  {
   "cell_type": "raw",
   "metadata": {},
   "source": [
    "def countwords(linearray):\n",
    "    \"\"\" Write a generator that gets the \n",
    "    number of words from each line of the csv file\n",
    "    Hint : Loop through the input argument linearray and yield the result\n",
    "    \"\"\"\n",
    "    "
   ]
  },
  {
   "cell_type": "raw",
   "metadata": {},
   "source": [
    "for () in countwords(charcount(filename = 'sometextIwrote.txt')):\n",
    "    print()"
   ]
  },
  {
   "cell_type": "markdown",
   "metadata": {},
   "source": [
    "### Task 1 - Solution"
   ]
  },
  {
   "cell_type": "code",
   "execution_count": 12,
   "metadata": {
    "collapsed": true
   },
   "outputs": [],
   "source": [
    "def countwords(linearray):\n",
    "    for lines, ccount in linearray:\n",
    "#         print('Get number of words')\n",
    "        yield ccount, len(lines.split())\n",
    "#         print('After yield2')"
   ]
  },
  {
   "cell_type": "code",
   "execution_count": 52,
   "metadata": {},
   "outputs": [
    {
     "name": "stdout",
     "output_type": "stream",
     "text": [
      "> line number:0 char count: 32, number of words: 7\n",
      "> line number:1 char count: 61, number of words: 11\n",
      "> line number:2 char count: 34, number of words: 5\n",
      "> line number:3 char count: 52, number of words: 12\n",
      "> line number:4 char count: 56, number of words: 12\n"
     ]
    }
   ],
   "source": [
    "#What will be the order of the print statements in this case?\n",
    "for i, l in enumerate(countwords(charcount(filename = 'sometextIwrote.txt'))):\n",
    "    print(f'> line number:{i} char count: {l[0]}, number of words: {l[1]}')"
   ]
  },
  {
   "cell_type": "markdown",
   "metadata": {},
   "source": [
    "## Generators are great for large datasets that you want to process one line at a time\n",
    "- Unlike batch type of programming,that could create a large memory footprint, generators iterate over data __lazily__ without loading the entire data source into memory at once.\n",
    "- __yield__ is not __return__!! \n",
    "- When functions `return`, they are done for good. Generators are alive till values are exhausted\n",
    "- Functions always start from the first line, generators start where you left off : at __yield__ \n",
    "- __Limitation__ - with a generator you can only iterate. You can't peak ahead or look behind"
   ]
  },
  {
   "cell_type": "markdown",
   "metadata": {},
   "source": [
    "## Task 2 : Streaming with `yield`\n",
    "Multiple CSV files stored in a directory, contain information of x-y position of a swimming zebrafish across time.\n",
    "<br>__The task:__\n",
    "1. Loop through each csv file, acquire the x and y position and find distance travelled by the fish at each time point.\n",
    "2. To find distance travelled between two timepoints, you need to get the x and y position of fish at two consecutive frames.\n",
    "3. Using the acquired distance travelled, print time spent by the fish at a speed below the threshold. "
   ]
  },
  {
   "cell_type": "markdown",
   "metadata": {},
   "source": [
    "  <img src=\"files/fish.png\"  width=\"400\" >"
   ]
  },
  {
   "cell_type": "code",
   "execution_count": null,
   "metadata": {
    "collapsed": true
   },
   "outputs": [],
   "source": [
    "import csv\n",
    "import os\n",
    "\n",
    "\n",
    "def CSVfileGrabber(dirname):\n",
    "    \"\"\"Step 1 : Grab CSV files from a directory \"\"\"\n",
    "    for filename in os.listdir(dirname):\n",
    "        if filename.endswith('.csv'):\n",
    "            print('Working on: {}'.format(filename[:5]))  # Print name of fish\n",
    "            yield os.path.join(dirname, filename)\n",
    "\n",
    "\n",
    "def readcsv(filename):\n",
    "    \"\"\"Step 2 : read the csv files line by line \"\"\"\n",
    "    with open(filename) as f:\n",
    "        # An extra step here using the built in csv library\n",
    "        # to get a reader object that can be iterated over\n",
    "        csvreader = csv.reader(f)\n",
    "        for i, line in enumerate(csvreader):\n",
    "            # Skip a few lines\n",
    "            if i < 10:\n",
    "                continue\n",
    "            else:\n",
    "                yield line\n",
    "\n",
    "\n",
    "def getxy(linearray):\n",
    "    \"\"\"Step 3 : from every line yielded from the iterator, get x and y coordinates \"\"\"\n",
    "    for i in linearray:\n",
    "        # x and y coordinates are in the 3rd and 4th column respectively\n",
    "        yield [int(i[2]), int(i[3])]"
   ]
  },
  {
   "cell_type": "code",
   "execution_count": null,
   "metadata": {},
   "outputs": [],
   "source": [
    "dirname = '/Users/seetha/Desktop/Microbetest/ExampleFile/'  # A small sample dataset\n",
    "\n",
    "# Just to make sure things are working\n",
    "for files in CSVfileGrabber(dirname):\n",
    "    numline = 0\n",
    "    for g in getxy(readcsv(files)):\n",
    "        #         print(g)\n",
    "        numline += 1\n",
    "    print('Parsed lines from this csv file is {}'.format(numline))"
   ]
  },
  {
   "cell_type": "code",
   "execution_count": null,
   "metadata": {
    "collapsed": true
   },
   "outputs": [],
   "source": [
    "def consecutivexy1(linearray):\n",
    "    \"\"\"Step 4: get consecutive xy values\"\"\"\n",
    "    # Here we want to get two consecutive xy to get speed/frame\n",
    "    # Make use of the next keyword\n",
    "    for i, line in enumerate(linearray):\n",
    "        if i == 0:\n",
    "            prevxy = line\n",
    "            nextxy = next(linearray)\n",
    "        else:\n",
    "            prevxy = nextxy\n",
    "            nextxy = line\n",
    "        yield prevxy, nextxy"
   ]
  },
  {
   "cell_type": "markdown",
   "metadata": {},
   "source": [
    "A nice way to do this is to use itertools (which is an amazing library for looping through iterators) https://docs.python.org/3/library/itertools.html"
   ]
  },
  {
   "cell_type": "code",
   "execution_count": null,
   "metadata": {
    "collapsed": true
   },
   "outputs": [],
   "source": [
    "from itertools import tee\n",
    "\n",
    "\n",
    "def consecutivexy2(linearray):\n",
    "    # This makes two copies of the same iterable\n",
    "    prevxy, nextxy = tee(linearray, 2)\n",
    "    next(nextxy)  # discard one\n",
    "    yield from zip(prevxy, nextxy)  # Note here I am using \"yield from\""
   ]
  },
  {
   "cell_type": "markdown",
   "metadata": {},
   "source": [
    "#### Sidenote : `yield from`\n",
    "With `yield from`, we can skip an extra `for` loop"
   ]
  },
  {
   "cell_type": "raw",
   "metadata": {},
   "source": [
    "yield from sequence\n",
    "\n",
    "#is same as\n",
    "\n",
    "for elem in sequence:\n",
    "    yield elem"
   ]
  },
  {
   "cell_type": "code",
   "execution_count": null,
   "metadata": {},
   "outputs": [],
   "source": [
    "# A simple example to see what the yield from function will do \n",
    "A = range(5)\n",
    "B = range(6, 11)\n",
    "\n",
    "def temp(A, B): #Without yield from\n",
    "    for a, b in zip(A, B):\n",
    "        yield a, b\n",
    "            \n",
    "for i in temp(A, B): \n",
    "    print(i)\n",
    "# Two loops!! You need two loops!!"
   ]
  },
  {
   "cell_type": "code",
   "execution_count": null,
   "metadata": {},
   "outputs": [],
   "source": [
    "# After Python 3.3 and existance of yield from\n",
    "def yieldfromexample(A, B):\n",
    "    yield from zip(A, B)\n",
    "for i in yieldfromexample(A, B):\n",
    "    print(i)"
   ]
  },
  {
   "cell_type": "code",
   "execution_count": null,
   "metadata": {},
   "outputs": [],
   "source": [
    "# Just to make sure things are working\n",
    "for files in CSVfileGrabber(dirname):\n",
    "    numline = 0\n",
    "    for x, y in consecutivexy1(getxy(readcsv(files))):\n",
    "#         print(x, y)\n",
    "        numline += 1\n",
    "    print('Parsed lines from this csv file is {}'.format(numline))"
   ]
  },
  {
   "cell_type": "markdown",
   "metadata": {},
   "source": [
    "## Write the next parts on your own\n",
    "- Step 5 : Calculate distance between the two consecutive points\n",
    "- Step 6 : Put it all together"
   ]
  },
  {
   "cell_type": "code",
   "execution_count": null,
   "metadata": {
    "collapsed": true
   },
   "outputs": [],
   "source": [
    "# Step 5: Calculate euclidean distance\n",
    "import math\n",
    "\n",
    "\n",
    "def getdist(xy):\n",
    "    \"\"\"  \n",
    "    Write a generator function that recieves \n",
    "    the previous and next x-y location of the fish \n",
    "    and calculates the distance between the two points\n",
    "    \n",
    "    Euclidean distance between two points (x1, y1) and (x2, y2) is \n",
    "    sqrt((x1-x2)^2 + (y1-y2)^2)\n",
    "   \"\"\""
   ]
  },
  {
   "cell_type": "code",
   "execution_count": null,
   "metadata": {
    "collapsed": true
   },
   "outputs": [],
   "source": [
    "# Step 6: Put it all together\n",
    "def getframes(dist, threshold, frames_per_sec):\n",
    "    \"\"\"\n",
    "    Count frames with distance below a user-defined threshold and\n",
    "    complete the print statement given below\n",
    "    (Hint: use enumerate to find number of frames)\n",
    "    \n",
    "    Example:\n",
    "    Of 16.27 seconds recording time, time spent with speed less than 10 is 12.83 seconds\n",
    "    \"\"\"\n",
    "    \n",
    "    print('Of {:0.2f} seconds recording time, time spent with speed less than {} is {:0.2f} seconds')"
   ]
  },
  {
   "cell_type": "markdown",
   "metadata": {},
   "source": [
    "## Task2 : Solution"
   ]
  },
  {
   "cell_type": "code",
   "execution_count": null,
   "metadata": {
    "collapsed": true
   },
   "outputs": [],
   "source": [
    "def getdist(xy):\n",
    "    # Calculate euclidean distance\n",
    "    for prevxy, nextxy in xy:\n",
    "        # zip allows you to iterate two lists parallely\n",
    "        dist = [(a - b)**2 for a, b in zip(prevxy, nextxy)]\n",
    "        dist = math.sqrt(sum(dist))\n",
    "        yield dist\n",
    "\n",
    "# @tz.curry\n",
    "def getframes(dist, threshold=10, frames_per_sec=30):\n",
    "    dist_count = 0\n",
    "    for i, d in enumerate(dist):\n",
    "        if d < threshold:\n",
    "            dist_count += 1\n",
    "    print('Of {:0.3f} seconds recording time, time spent with speed less than {} is {:0.3f} seconds'.format(\n",
    "        i / frames_per_sec, threshold, dist_count / frames_per_sec))"
   ]
  },
  {
   "cell_type": "code",
   "execution_count": null,
   "metadata": {},
   "outputs": [],
   "source": [
    "# Test your code with larger datasets\n",
    "dirname = '/Users/seetha/Desktop/Microbetest/Collective/'\n",
    "for files in CSVfileGrabber(dirname):\n",
    "    getframes(\n",
    "        getdist(\n",
    "            consecutivexy2(\n",
    "                getxy(readcsv(files)))), threshold=10, frames_per_sec=30)"
   ]
  },
  {
   "cell_type": "markdown",
   "metadata": {},
   "source": [
    "### The above statement that calls multiple generators looks ugly. <br> In such cases, with multiple genertors lined up, yield can start to feel unintuitive and tedious\n",
    "\n",
    "Enter Toolz\n",
    "<br> Toolz by Matt Rocklin - http://toolz.readthedocs.io/en/latest/\n",
    "<br> It makes streaming super easy - intuitive and concise !\n",
    "\n",
    "For more examples and explanation from Elegant Scipy written by the brilliant ASPP faculty - https://github.com/elegant-scipy/notebooks/blob/master/notebooks/ch8.ipynb\n",
    "\n",
    "(Filed under things I can't believe I hardly used before this tutorial)"
   ]
  },
  {
   "cell_type": "code",
   "execution_count": null,
   "metadata": {
    "collapsed": true
   },
   "outputs": [],
   "source": [
    "import toolz as tz"
   ]
  },
  {
   "cell_type": "markdown",
   "metadata": {},
   "source": [
    "#### tz.pipe - passes a value through a sequence of functions - one by one\n",
    "Pipe is simply syntactic sugar to make multiple function calls easy"
   ]
  },
  {
   "cell_type": "code",
   "execution_count": null,
   "metadata": {
    "collapsed": true
   },
   "outputs": [],
   "source": [
    "# This will do exactly as the previous call (without the added brackets)\n",
    "# The function calls are cleaner and can be read from left to right - which is sooo much better\n",
    "def pipeline(filename):\n",
    "    pipe = tz.pipe(filename,\n",
    "                readcsv,\n",
    "                getxy,\n",
    "                consecutivexy1,\n",
    "                getdist,\n",
    "                getframes(threshold=10, frames_per_sec=30)\n",
    "               )\n",
    "    return pipe"
   ]
  },
  {
   "cell_type": "code",
   "execution_count": null,
   "metadata": {},
   "outputs": [],
   "source": [
    "for i in CSVfileGrabber(dirname):\n",
    "    pipeline(i)"
   ]
  },
  {
   "cell_type": "markdown",
   "metadata": {},
   "source": [
    "### What happened there?"
   ]
  },
  {
   "cell_type": "markdown",
   "metadata": {},
   "source": [
    "## The magic of curry"
   ]
  },
  {
   "cell_type": "markdown",
   "metadata": {},
   "source": [
    "<br> Curry = Haskell Brooks Curry \n",
    "<br> __\"Currying\"__ means partially evaluating a function and returning another function. "
   ]
  },
  {
   "cell_type": "code",
   "execution_count": null,
   "metadata": {},
   "outputs": [],
   "source": [
    "# If you dont give all inputs to a python function, it becomes angry\n",
    "sum()"
   ]
  },
  {
   "cell_type": "markdown",
   "metadata": {},
   "source": [
    "### By currying, we are breaking down the evaluation of a function \n",
    "A curried function evaluates partially when you dont give it all the arguments, and fully when all arguments are available. \n",
    "<br>(That's why Python screamed before we added @tz.curry and the curried function could be added to the pipeline chain without any errors)"
   ]
  },
  {
   "cell_type": "code",
   "execution_count": null,
   "metadata": {
    "collapsed": true
   },
   "outputs": [],
   "source": [
    "#the @curry decorator creates a curried function\n",
    "from toolz import curry\n",
    "@curry\n",
    "def curried_sum(x, y):\n",
    "    return x + y"
   ]
  },
  {
   "cell_type": "code",
   "execution_count": null,
   "metadata": {
    "collapsed": true
   },
   "outputs": [],
   "source": [
    "A = curried_sum(2) #Just holds on to the value and produces no error"
   ]
  },
  {
   "cell_type": "code",
   "execution_count": null,
   "metadata": {},
   "outputs": [],
   "source": [
    "print(A(5)) #If you provide the second argument now - the function is fully evaluated"
   ]
  },
  {
   "cell_type": "markdown",
   "metadata": {},
   "source": [
    "Toolz has a number of useful curried functions to help us stream. <br> All of the Toolz functions are available as curried functions in the toolz.curried namespace. And it also gives curried versions of functions like map, filter and reduce.\n",
    "\n",
    "You can write any function that will analyse your dataset, line by line, which can then be curried and passed on to the toolz pipeline\n",
    "\n",
    "Reminder :\n",
    "1. map - Return an iterator that applies function to every item of iterable, yielding the results\n",
    "2. filter - Construct an iterator from those elements of iterable for which function returns true\n",
    "3. reduce - Performing some computation on an iterator and returning the result."
   ]
  }
 ],
 "metadata": {
  "kernelspec": {
   "display_name": "Python 3",
   "language": "python",
   "name": "python3"
  },
  "language_info": {
   "codemirror_mode": {
    "name": "ipython",
    "version": 3
   },
   "file_extension": ".py",
   "mimetype": "text/x-python",
   "name": "python",
   "nbconvert_exporter": "python",
   "pygments_lexer": "ipython3",
   "version": "3.6.3"
  },
  "toc": {
   "nav_menu": {},
   "number_sections": false,
   "sideBar": true,
   "skip_h1_title": false,
   "toc_cell": false,
   "toc_position": {},
   "toc_section_display": "block",
   "toc_window_display": true
  }
 },
 "nbformat": 4,
 "nbformat_minor": 2
}
