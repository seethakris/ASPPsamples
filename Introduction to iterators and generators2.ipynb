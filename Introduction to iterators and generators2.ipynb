{
 "cells": [
  {
   "cell_type": "markdown",
   "metadata": {},
   "source": [
    "# Understanding Iterators and (mostly) Generators\n",
    "Seetha Krishnan\n",
    "<br>\n",
    "ASPP - Asia Pacific 2018"
   ]
  },
  {
   "cell_type": "markdown",
   "metadata": {},
   "source": [
    "## Iterators\n",
    "Iterators are everywhere. \n",
    "An iterator is simply an object that can be iterated upon, say using a `for` loop\n",
    "\n",
    "In this extremely simple example, the __range(4)__ is the iterable object which at each iteration provides a different value to the __\"i\"__ variable."
   ]
  },
  {
   "cell_type": "code",
   "execution_count": null,
   "metadata": {},
   "outputs": [],
   "source": [
    "for i in range(4):\n",
    "    print(i)"
   ]
  },
  {
   "cell_type": "markdown",
   "metadata": {},
   "source": [
    "You can iterate over strings, lists, files, dictionaries etc"
   ]
  },
  {
   "cell_type": "code",
   "execution_count": null,
   "metadata": {},
   "outputs": [],
   "source": [
    "# Iterate over lines of a file\n",
    "filename = 'sometextIwrote.txt'\n",
    "f = open(filename, 'r')\n",
    "for linenumber, lines in enumerate(f):\n",
    "    print('{} > {}'.format(linenumber, lines))\n",
    "f.close()\n",
    "# Enumerate is one of those super cool in-built python functions that\n",
    "# allows you to loop over an object and have an automatic counter"
   ]
  },
  {
   "cell_type": "markdown",
   "metadata": {},
   "source": [
    "__Sidenote__ :  The proper way to open and close a file is not like the above example, but using a `with` statement, which takes care of opening and closing a file <br>(These are called Context Managers, we will talk more about them later)"
   ]
  },
  {
   "cell_type": "code",
   "execution_count": null,
   "metadata": {},
   "outputs": [],
   "source": [
    "with open(filename) as f:\n",
    "    for linenumber, lines in enumerate(f):\n",
    "        print('{} > {}'.format(linenumber, lines))"
   ]
  },
  {
   "cell_type": "markdown",
   "metadata": {},
   "source": [
    "#### Underneath the covers is a specific protocol:\n",
    "iter : This returns the iterator object itself\n",
    "<br>next() : This returns the next value. \n",
    "<br>_StopIteration_ error once all the objects have been looped through.\n",
    "\n",
    "If you want to know how to write an iterator from scratch, refer to some of these tutorials\n",
    "<br>https://www.programiz.com/python-programming/iterator\n",
    "<br>http://anandology.com/python-practice-book/iterators.html"
   ]
  },
  {
   "cell_type": "code",
   "execution_count": null,
   "metadata": {},
   "outputs": [],
   "source": [
    "it = iter(range(4))\n",
    "print(it)"
   ]
  },
  {
   "cell_type": "code",
   "execution_count": null,
   "metadata": {},
   "outputs": [],
   "source": [
    "print(next(it))  # Run this multiple times"
   ]
  },
  {
   "cell_type": "markdown",
   "metadata": {},
   "source": [
    "Most of the time you can get away with processing something row by row. But things can quickly get out of hand if you have a large data or multiple loops"
   ]
  },
  {
   "cell_type": "markdown",
   "metadata": {},
   "source": [
    "## Generators\n",
    "Generators are a simple, yet elegant type of iterators.\n",
    "\n",
    "__To create generators:__ \n",
    "- Define a function\n",
    "- instead of the return statement, use the __yield__ keyword. "
   ]
  },
  {
   "cell_type": "code",
   "execution_count": null,
   "metadata": {
    "collapsed": true
   },
   "outputs": [],
   "source": [
    "# Count number of words per line of csv file\n",
    "def readtxt(filename):\n",
    "    with open(filename) as fin:\n",
    "        for line in fin:\n",
    "            yield line #This defines a generator"
   ]
  },
  {
   "cell_type": "code",
   "execution_count": null,
   "metadata": {},
   "outputs": [],
   "source": [
    "r = readtxt(filename='sometextIwrote.txt')\n",
    "print(r)"
   ]
  },
  {
   "cell_type": "code",
   "execution_count": null,
   "metadata": {},
   "outputs": [],
   "source": [
    "# A generator does not hold anything in memory\n",
    "# It \"yields\" one result at a time and hasnt computed anything till you ask for the value - by saying next\n",
    "print(next(r))"
   ]
  },
  {
   "cell_type": "markdown",
   "metadata": {},
   "source": [
    "Instead of calling next every time, you will typically use generator functions as an __iterator object__"
   ]
  },
  {
   "cell_type": "code",
   "execution_count": null,
   "metadata": {},
   "outputs": [],
   "source": [
    "for l in readtxt(filename='sometextIwrote.txt'):\n",
    "    print(f'> {l}')"
   ]
  },
  {
   "cell_type": "markdown",
   "metadata": {},
   "source": [
    "We can define a second generator that counts the number of words in each line takes the first generator as input"
   ]
  },
  {
   "cell_type": "code",
   "execution_count": null,
   "metadata": {
    "collapsed": true
   },
   "outputs": [],
   "source": [
    "def countwords(linearray):\n",
    "    for i, line in enumerate(linearray):\n",
    "        yield i, len(line.split()) #This should give the number of words in each line"
   ]
  },
  {
   "cell_type": "code",
   "execution_count": null,
   "metadata": {},
   "outputs": [],
   "source": [
    "for i, n in countwords(readtxt(filename = 'sometextIwrote.txt')):\n",
    "    print('Number of words in line {} is {}'.format(i, n))"
   ]
  },
  {
   "cell_type": "code",
   "execution_count": null,
   "metadata": {},
   "outputs": [],
   "source": [
    "print(list(countwords(readtxt(filename = 'sometextIwrote.txt'))))"
   ]
  },
  {
   "cell_type": "markdown",
   "metadata": {},
   "source": [
    "### Whats so great about a generator? \n",
    "- Generators allow you to iterate over some data __lazily__ without loading the entire data source into memory at once.  (Great for large datasets!)\n",
    "- When functions `return`, they are done for good. Not generators.\n",
    "- Functions always start from the first line, generators start where you left off : at __yield__ "
   ]
  },
  {
   "cell_type": "markdown",
   "metadata": {},
   "source": [
    "### Real world example 1 : Streaming with `yield`\n",
    "Multiple CSV files stored in a directory, contain information of x-y position of a swimming zebrafish across time.\n",
    "<br>__The task:__\n",
    "1. Loop through each csv file, acquire the x and y position and find distance travelled by the fish at each time point.\n",
    "2. To find distance travelled between two timepoints, you need to get the x and y position of fish at two consecutive frames.\n",
    "3. Using the acquired distance travelled, print time spent by the fish at a speed below the threshold. "
   ]
  },
  {
   "cell_type": "markdown",
   "metadata": {},
   "source": [
    "  <img src=\"files/fish.png\"  width=\"400\" >"
   ]
  },
  {
   "cell_type": "code",
   "execution_count": null,
   "metadata": {
    "collapsed": true
   },
   "outputs": [],
   "source": [
    "import csv\n",
    "import os\n",
    "\n",
    "# Step 1 : Grab CSV files from a directory\n",
    "def CSVfileGrabber(dirname):\n",
    "    for filename in os.listdir(dirname):\n",
    "        if filename.endswith('.csv'):\n",
    "            print('Working on: {}'.format(filename[:5]))  # Print name of fish\n",
    "            yield os.path.join(dirname, filename)\n",
    "\n",
    "# Step 2 : read the csv files line by line\n",
    "def readcsv(filename):\n",
    "    with open(filename) as f:\n",
    "        # An extra step here using the built in csv library\n",
    "        # to get a reader object that can be iterated over\n",
    "        csvreader = csv.reader(f)\n",
    "        for i, line in enumerate(csvreader):\n",
    "            # Skip a few lines\n",
    "            if i < 10:\n",
    "                continue\n",
    "            else:\n",
    "                yield line\n",
    "\n",
    "# Step 3 : get x and y coordinates\n",
    "def getxy(linearray):\n",
    "    for i in linearray:\n",
    "        # x and y coordinates are in the 3rd and 4th column respectively\n",
    "        yield [int(i[2]), int(i[3])]"
   ]
  },
  {
   "cell_type": "code",
   "execution_count": null,
   "metadata": {},
   "outputs": [],
   "source": [
    "dirname = '/Users/seetha/Desktop/Microbetest/ExampleFile/'  # A small sample dataset\n",
    "\n",
    "# Just to make sure things are working\n",
    "for files in CSVfileGrabber(dirname):\n",
    "    numline = 0\n",
    "    for g in getxy(readcsv(files)):\n",
    "        #         print(g)\n",
    "        numline += 1\n",
    "    print('Parsed lines from this csv file is {}'.format(numline))"
   ]
  },
  {
   "cell_type": "code",
   "execution_count": null,
   "metadata": {
    "collapsed": true
   },
   "outputs": [],
   "source": [
    "# Step 4: get consecutive xy\n",
    "def consecutivexy1(linearray):\n",
    "    # Here we want to get two consecutive xy to get speed/frame\n",
    "    # Make use of the next keyword\n",
    "    for i, line in enumerate(linearray):\n",
    "        if i == 0:\n",
    "            prevxy = line\n",
    "            nextxy = next(linearray)\n",
    "        else:\n",
    "            prevxy = nextxy\n",
    "            nextxy = line\n",
    "        yield prevxy, nextxy"
   ]
  },
  {
   "cell_type": "code",
   "execution_count": null,
   "metadata": {
    "collapsed": true
   },
   "outputs": [],
   "source": [
    "# A nice way is to use itertools (which is an amazing library for looping of iterators)\n",
    "# https://docs.python.org/3/library/itertools.html\n",
    "from itertools import tee\n",
    "\n",
    "def consecutivexy2(linearray):\n",
    "    # This makes two copies of the same iterable\n",
    "    prevxy, nextxy = tee(linearray, 2)\n",
    "    next(nextxy)  # discard one\n",
    "    yield from zip(prevxy, nextxy)  # Note this cool keyword here 'yield from'"
   ]
  },
  {
   "cell_type": "markdown",
   "metadata": {},
   "source": [
    "#### Sidenote : `yield from`\n",
    "With `yield from`, we can skip an extra `for` loop"
   ]
  },
  {
   "cell_type": "raw",
   "metadata": {},
   "source": [
    "yield from sequence\n",
    "\n",
    "#is same as\n",
    "\n",
    "for elem in sequence:\n",
    "    yield elem"
   ]
  },
  {
   "cell_type": "code",
   "execution_count": null,
   "metadata": {},
   "outputs": [],
   "source": [
    "# A simple example to see what the yield from function will do \n",
    "A = range(5)\n",
    "B = range(6, 11)\n",
    "\n",
    "def temp(A, B):\n",
    "    for a, b in zip(A, B):\n",
    "        yield a, b\n",
    "            \n",
    "for i in temp(A, B): \n",
    "    print(i)\n",
    "# Two loops!! You need two loops!!"
   ]
  },
  {
   "cell_type": "code",
   "execution_count": null,
   "metadata": {},
   "outputs": [],
   "source": [
    "# After Python 3.3\n",
    "def yieldfromexample(A, B):\n",
    "    yield from zip(A, B)\n",
    "for i in yieldfromexample(A, B):\n",
    "    print(i)"
   ]
  },
  {
   "cell_type": "code",
   "execution_count": null,
   "metadata": {},
   "outputs": [],
   "source": [
    "# Just to make sure things are working\n",
    "for files in CSVfileGrabber(dirname):\n",
    "    numline = 0\n",
    "    for x, y in consecutivexy1(getxy(readcsv(files))):\n",
    "#         print(x, y)\n",
    "        numline += 1\n",
    "    print('Parsed lines from this csv file is {}'.format(numline))"
   ]
  },
  {
   "cell_type": "markdown",
   "metadata": {},
   "source": [
    "## Write the next parts on your own\n",
    "- Step 5 : Calculate distance between the two consecutive points\n",
    "- Step 6 : Put it all together"
   ]
  },
  {
   "cell_type": "code",
   "execution_count": null,
   "metadata": {
    "collapsed": true
   },
   "outputs": [],
   "source": [
    "# Step 5: Calculate euclidean distance\n",
    "import math\n",
    "\n",
    "\n",
    "def getdist(xy):\n",
    "    \"\"\"  \n",
    "    Write a generator function that recieves \n",
    "    the previous and next x-y location of the fish \n",
    "    and calculates the distance between the two points \n",
    "   \"\"\""
   ]
  },
  {
   "cell_type": "code",
   "execution_count": null,
   "metadata": {
    "collapsed": true
   },
   "outputs": [],
   "source": [
    "# Step 6: Put it all together\n",
    "def getframes(dist, threshold, frames_per_sec):\n",
    "    \"\"\"\n",
    "    Count frames with distance below a user-defined threshold and\n",
    "    complete the print statement given below\n",
    "    (Hint: use enumerate to find number of frames)\n",
    "    \n",
    "    Example:\n",
    "    Of 16.27 seconds recording time, time spent with speed less than 10 is 12.83 seconds\n",
    "    \"\"\"\n",
    "    \n",
    "    print('Of {:0.2f} seconds recording time, time spent with speed less than {} is {:0.2f} seconds')"
   ]
  },
  {
   "cell_type": "markdown",
   "metadata": {},
   "source": [
    "## Solution"
   ]
  },
  {
   "cell_type": "code",
   "execution_count": null,
   "metadata": {
    "collapsed": true
   },
   "outputs": [],
   "source": [
    "def getdist(xy):\n",
    "    # Calculate euclidean distance\n",
    "    for prevxy, nextxy in xy:\n",
    "        # zip allows you to iterate two lists parallely\n",
    "        dist = [(a - b)**2 for a, b in zip(prevxy, nextxy)]\n",
    "        dist = math.sqrt(sum(dist))\n",
    "        yield dist\n",
    "\n",
    "# @tz.curry\n",
    "def getframes(dist, threshold=10, frames_per_sec=30):\n",
    "    dist_count = 0\n",
    "    for i, d in enumerate(dist):\n",
    "        if d < threshold:\n",
    "            dist_count += 1\n",
    "    print('Of {:0.3f} seconds recording time, time spent with speed less than {} is {:0.3f} seconds'.format(\n",
    "        i / frames_per_sec, threshold, dist_count / frames_per_sec))"
   ]
  },
  {
   "cell_type": "code",
   "execution_count": null,
   "metadata": {},
   "outputs": [],
   "source": [
    "# Test your code with larger datasets\n",
    "dirname = '/Users/seetha/Desktop/Microbetest/Collective/'\n",
    "for files in CSVfileGrabber(dirname):\n",
    "    getframes(\n",
    "        getdist(\n",
    "            consecutivexy2(\n",
    "                getxy(readcsv(files)))), threshold=10, frames_per_sec=30)"
   ]
  },
  {
   "cell_type": "markdown",
   "metadata": {},
   "source": [
    "### The above statement that calls multiple generators looks ugly \n",
    "Lets make it more beautiful! - using toolz\n",
    "<br> Toolz by Matt Rocklin - http://toolz.readthedocs.io/en/latest/\n",
    "<br> It makes streaming super easy - intuitive and concise !\n",
    "\n",
    "For some examples and explanation from Elegant Scipy written by the brilliant ASPP faculty - https://github.com/elegant-scipy/notebooks/blob/master/notebooks/ch8.ipynb\n",
    "\n",
    "(Filed under things I can't believe I hardly used before this tutorial)"
   ]
  },
  {
   "cell_type": "code",
   "execution_count": null,
   "metadata": {
    "collapsed": true
   },
   "outputs": [],
   "source": [
    "import toolz as tz"
   ]
  },
  {
   "cell_type": "markdown",
   "metadata": {},
   "source": [
    "#### Pipe a value through a sequence of functions"
   ]
  },
  {
   "cell_type": "code",
   "execution_count": null,
   "metadata": {
    "collapsed": true
   },
   "outputs": [],
   "source": [
    "# This will do exactly as the previous call (without the added brackets)\n",
    "# Pipe is simply syntactic sugar to make multiple function calls easy\n",
    "# The function calls are cleaner and can be read from left to right - which is sooo much better\n",
    "\n",
    "def pipeline(filename):\n",
    "    pipe = tz.pipe(filename,\n",
    "                readcsv,\n",
    "                getxy,\n",
    "                consecutivexy1,\n",
    "                getdist,\n",
    "                getframes(threshold=10, frames_per_sec=30)\n",
    "               )\n",
    "    return pipe"
   ]
  },
  {
   "cell_type": "code",
   "execution_count": null,
   "metadata": {},
   "outputs": [],
   "source": [
    "for i in CSVfileGrabber(dirname):\n",
    "    pipeline(i)"
   ]
  },
  {
   "cell_type": "markdown",
   "metadata": {},
   "source": [
    "### What happened there? - Lets break it down"
   ]
  },
  {
   "cell_type": "markdown",
   "metadata": {},
   "source": [
    "## The magic of curry"
   ]
  },
  {
   "cell_type": "markdown",
   "metadata": {},
   "source": [
    "<br> Curry = Haskell Brooks Curry \n",
    "<br> __\"Currying\"__ means partially evaluating a function and returning another function. "
   ]
  },
  {
   "cell_type": "code",
   "execution_count": null,
   "metadata": {},
   "outputs": [],
   "source": [
    "# If you dont give all inputs to a python function, it becomes angry\n",
    "sum()"
   ]
  },
  {
   "cell_type": "markdown",
   "metadata": {},
   "source": [
    "### By currying, we are breaking down the evaluation of a function \n",
    "A curried function evaluates partially when you dont give it all the arguments, and fully when all arguments are available. \n",
    "<br>(That's why Python screamed before we added @tz.curry and the curried function could be added to the pipeline chain without any errors)"
   ]
  },
  {
   "cell_type": "code",
   "execution_count": null,
   "metadata": {},
   "outputs": [],
   "source": [
    "#the @curry decorator creates a curried function\n",
    "from toolz import curry\n",
    "@curry\n",
    "def curried_sum(x, y):\n",
    "    return x + y"
   ]
  },
  {
   "cell_type": "code",
   "execution_count": null,
   "metadata": {},
   "outputs": [],
   "source": [
    "A = curried_sum(2) #Just holds on to the value and produces no error"
   ]
  },
  {
   "cell_type": "code",
   "execution_count": null,
   "metadata": {},
   "outputs": [],
   "source": [
    "print(A(5)) #If you provide the second argument now - the function is fully evaluated"
   ]
  },
  {
   "cell_type": "markdown",
   "metadata": {},
   "source": [
    "Toolz has a number of useful curried functions to help us stream. All of the Toolz functions are available as curried functions in the toolz.curried namespace. And it also gives curried versions of functions like map, filter and reduce.\n",
    "\n",
    "These are useful for us while streaming data:\n",
    "1. map - Return an iterator that applies function to every item of iterable, yielding the results\n",
    "2. filter - Construct an iterator from those elements of iterable for which function returns true\n",
    "3. reduce - Performing some computation on an iterator and returning the result."
   ]
  }
 ],
 "metadata": {
  "kernelspec": {
   "display_name": "Python 3",
   "language": "python",
   "name": "python3"
  },
  "language_info": {
   "codemirror_mode": {
    "name": "ipython",
    "version": 3
   },
   "file_extension": ".py",
   "mimetype": "text/x-python",
   "name": "python",
   "nbconvert_exporter": "python",
   "pygments_lexer": "ipython3",
   "version": "3.6.3"
  }
 },
 "nbformat": 4,
 "nbformat_minor": 2
}
