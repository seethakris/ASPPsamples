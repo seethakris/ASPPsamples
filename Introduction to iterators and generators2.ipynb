{
 "cells": [
  {
   "cell_type": "markdown",
   "metadata": {},
   "source": [
    "# Understanding Iterators and (mostly) Generators\n",
    "Seetha Krishnan\n",
    "<br>\n",
    "ASPP - Asia Pacific 2018"
   ]
  },
  {
   "cell_type": "markdown",
   "metadata": {},
   "source": [
    "## Iterators\n",
    "Iterators are everywhere. \n",
    "An iterator is simply an object that can be iterated upon, say using a `for` loop\n",
    "\n",
    "In this extremely simple example, the __range(4)__ is the iterable object which at each iteration provides a different value to the __\"i\"__ variable."
   ]
  },
  {
   "cell_type": "code",
   "execution_count": null,
   "metadata": {},
   "outputs": [],
   "source": [
    "for i in range(4):\n",
    "    print(i)"
   ]
  },
  {
   "cell_type": "markdown",
   "metadata": {},
   "source": [
    "You can iterate over strings, lists, files, dictionaries etc"
   ]
  },
  {
   "cell_type": "code",
   "execution_count": null,
   "metadata": {},
   "outputs": [],
   "source": [
    "# Iterate over lines of a file\n",
    "filename = 'sometextIwrote.txt'\n",
    "f = open(filename, 'r')\n",
    "for linenumber, lines in enumerate(f):  \n",
    "    print('{} > {}'.format(linenumber, lines))\n",
    "f.close()\n",
    "# Enumerate is one of those super cool in-built python functions that \n",
    "# allows you to loop over an object and have an automatic counter"
   ]
  },
  {
   "cell_type": "markdown",
   "metadata": {},
   "source": [
    "__Sidenote__ :  The proper way to open and close a file is not like the above example, but using a `with` statement, which takes care of opening and closing a file <br>(These are called Context Managers, we will talk more about them later)"
   ]
  },
  {
   "cell_type": "code",
   "execution_count": null,
   "metadata": {},
   "outputs": [],
   "source": [
    "with open(filename) as f:\n",
    "    for linenumber, lines in enumerate(f):\n",
    "        print('{} > {}'.format(linenumber, lines))"
   ]
  },
  {
   "cell_type": "markdown",
   "metadata": {},
   "source": [
    "#### Underneath the covers is a specific protocol:\n",
    "iter : This returns the iterator object itself\n",
    "<br>next() : This returns the next value. \n",
    "<br>_StopIteration_ error once all the objects have been looped through.\n",
    "\n",
    "If you want to know how to write an iterator from scratch, refer to some of these tutorials\n",
    "<br>https://www.programiz.com/python-programming/iterator\n",
    "<br>http://anandology.com/python-practice-book/iterators.html"
   ]
  },
  {
   "cell_type": "code",
   "execution_count": null,
   "metadata": {},
   "outputs": [],
   "source": [
    "it = iter(range(4))\n",
    "print(it)"
   ]
  },
  {
   "cell_type": "code",
   "execution_count": null,
   "metadata": {},
   "outputs": [],
   "source": [
    "print(next(it))  # Run this multiple times"
   ]
  },
  {
   "cell_type": "markdown",
   "metadata": {},
   "source": [
    "## Generators\n",
    "Generators are a simple, yet elegant type of iterators. A generator produces a sequence of results, not just a single value\n",
    "\n",
    "__To create generators:__ \n",
    "- Define a function\n",
    "- instead of the return statement, use the __yield__ keyword. "
   ]
  },
  {
   "cell_type": "code",
   "execution_count": null,
   "metadata": {},
   "outputs": [],
   "source": [
    "# Count number of words per line of csv file\n",
    "def read(filename):\n",
    "    with open(filename) as fin:\n",
    "        for line in fin:\n",
    "            yield line\n",
    "\n",
    "def countwords(linearray):\n",
    "    for i, line in enumerate(linearray):\n",
    "        yield i, len(line.split())"
   ]
  },
  {
   "cell_type": "markdown",
   "metadata": {},
   "source": [
    "You will typically use generator functions as an __iterator object__"
   ]
  },
  {
   "cell_type": "code",
   "execution_count": null,
   "metadata": {},
   "outputs": [],
   "source": [
    "filename = 'sometextIwrote.txt'\n",
    "for i, n in countwords(readcsv(filename)):\n",
    "    print('Number of words in line {} is {}'.format(i, n))"
   ]
  },
  {
   "cell_type": "code",
   "execution_count": null,
   "metadata": {},
   "outputs": [],
   "source": [
    "g = readcsv(filename)\n",
    "print(g)"
   ]
  },
  {
   "cell_type": "code",
   "execution_count": null,
   "metadata": {},
   "outputs": [],
   "source": [
    "next(g)"
   ]
  },
  {
   "cell_type": "markdown",
   "metadata": {},
   "source": [
    "### Whats so great about a generator? \n",
    "- Generators allow you to iterate over some data __lazily__ without loading the entire data source into memory at once.  (Great for large datasets!)\n",
    "- When functions `return`, they are done for good. Not generators.\n",
    "- Functions always start from the first line, generators start where you left off : at __yield__ "
   ]
  },
  {
   "cell_type": "markdown",
   "metadata": {},
   "source": [
    "### Exercise 1 \n",
    "Multiple CSV files stored in a directory, contain information of x-y position of a swimming zebrafish across time.\n",
    "<br>__The task:__\n",
    "1. Loop through each csv file, acquire the x and y position and find distance travelled by the fish at each time point.\n",
    "2. To find distance travelled between two timepoints, you need to get the x and y position of fish at two consecutive frames.\n",
    "3. Using the acquired distance travelled, print time spent by the fish at a speed below the threshold. "
   ]
  },
  {
   "cell_type": "markdown",
   "metadata": {},
   "source": [
    "  <img src=\"files/fish.png\"  width=\"500\" >"
   ]
  },
  {
   "cell_type": "code",
   "execution_count": 84,
   "metadata": {},
   "outputs": [],
   "source": [
    "import math\n",
    "import csv\n",
    "import os\n",
    "\n",
    "def CSVfileGrabber(dirname):\n",
    "    for filename in os.listdir(dirname):\n",
    "        print('Working on: {}'.format(filename[:5])) #Print name of fish\n",
    "        yield os.path.join(dirname, filename)\n",
    "\n",
    "\n",
    "def readcsv(filename):\n",
    "    with open(filename) as f:\n",
    "        csvreader = csv.reader(f)\n",
    "        for i, line in enumerate(csvreader):\n",
    "            if i < 10:  # Skip header frame and frames used to calculate background\n",
    "                continue\n",
    "            else:\n",
    "                yield line\n",
    "\n",
    "\n",
    "def getxy(linearray):\n",
    "    for i in linearray:\n",
    "        # Columns containing x and y coordinates are in the 3rd and 4th column respectively\n",
    "        yield [int(i[2]), int(i[3])]\n",
    "\n",
    "\n",
    "def consecutivexy(linearray):\n",
    "    # Here we want to get two consecutive xy to get speed/frame\n",
    "    # Make use of the next keyword and Stop Iteration to quit\n",
    "    try:\n",
    "        for i, line in enumerate(linearray):\n",
    "            if i == 0:\n",
    "                prevxy = line\n",
    "            else:\n",
    "                prevxy = nextxy\n",
    "            nextxy = next(linearray)\n",
    "            yield prevxy, nextxy\n",
    "\n",
    "    except StopIteration:\n",
    "        yield prevxy, line\n",
    "\n",
    "\n",
    "def getdist(xy):\n",
    "    #Calculate euclidean distance\n",
    "    for prevxy, nextxy in xy:\n",
    "        dist = [(a - b)**2 for a, b in zip(prevxy, nextxy)] #zip allows you to iterate two lists parallely\n",
    "        dist = math.sqrt(sum(dist))\n",
    "        yield dist\n",
    "\n",
    "\n",
    "def getframes(dist, threshold, frames_per_sec):\n",
    "    dist_count = 0\n",
    "    for i, d in enumerate(dist):\n",
    "        if d < threshold:\n",
    "            dist_count += 1\n",
    "    print('Of {:0.3f} seconds recording time, time spent with speed less than {} is {:0.3f} seconds'.format(\n",
    "        i / frames_per_sec, threshold, dist_count / frames_per_sec))"
   ]
  },
  {
   "cell_type": "code",
   "execution_count": 85,
   "metadata": {},
   "outputs": [
    {
     "name": "stdout",
     "output_type": "stream",
     "text": [
      "Working on: Fish1\n",
      "Of 8.133 seconds recording time, time spent with speed less than 10 is 3.033 seconds\n",
      "Working on: Fish6\n",
      "Of 8.133 seconds recording time, time spent with speed less than 10 is 4.600 seconds\n"
     ]
    }
   ],
   "source": [
    "dirname = '/Users/seetha/Desktop/Microbetest/Collective/'\n",
    "for files in CSVfileGrabber(dirname):\n",
    "    getframes(\n",
    "        getdist(\n",
    "            consecutivexy(\n",
    "                getxy(readcsv(files)))), threshold=10, frames_per_sec=30)"
   ]
  },
  {
   "cell_type": "code",
   "execution_count": null,
   "metadata": {
    "collapsed": true
   },
   "outputs": [],
   "source": []
  }
 ],
 "metadata": {
  "kernelspec": {
   "display_name": "Python 3",
   "language": "python",
   "name": "python3"
  },
  "language_info": {
   "codemirror_mode": {
    "name": "ipython",
    "version": 3
   },
   "file_extension": ".py",
   "mimetype": "text/x-python",
   "name": "python",
   "nbconvert_exporter": "python",
   "pygments_lexer": "ipython3",
   "version": "3.6.3"
  }
 },
 "nbformat": 4,
 "nbformat_minor": 2
}
