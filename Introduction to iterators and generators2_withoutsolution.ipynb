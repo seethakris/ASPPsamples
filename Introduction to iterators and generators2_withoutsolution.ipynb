{
 "cells": [
  {
   "cell_type": "markdown",
   "metadata": {},
   "source": [
    "# Understanding Iterators and (mostly) Generators\n",
    "Seetha Krishnan\n",
    "<br>\n",
    "ASPP - Asia Pacific 2018"
   ]
  },
  {
   "cell_type": "markdown",
   "metadata": {},
   "source": [
    "## Iterators\n",
    "Iterators are everywhere. \n",
    "An iterator is simply an object that can be iterated upon, say using a `for` loop\n",
    "\n",
    "In this extremely simple example, the __range(4)__ is the iterable object which at each iteration provides a different value to the __\"i\"__ variable."
   ]
  },
  {
   "cell_type": "code",
   "execution_count": 32,
   "metadata": {},
   "outputs": [
    {
     "name": "stdout",
     "output_type": "stream",
     "text": [
      "0\n",
      "1\n",
      "2\n",
      "3\n"
     ]
    }
   ],
   "source": [
    "for i in range(4):\n",
    "    print(i)"
   ]
  },
  {
   "cell_type": "markdown",
   "metadata": {},
   "source": [
    "You can iterate over strings, lists, files, dictionaries etc"
   ]
  },
  {
   "cell_type": "code",
   "execution_count": 33,
   "metadata": {
    "code_folding": []
   },
   "outputs": [
    {
     "name": "stdout",
     "output_type": "stream",
     "text": [
      "0 > The skill to do math on a page\n",
      "\n",
      "1 > Has declined to the point of outrage.\n",
      "\n",
      "2 > Equations quadratica\n",
      "\n",
      "3 > Are solved on Mathmatica,\n",
      "\n",
      "4 > And on birthdays we don't know our age.\n"
     ]
    }
   ],
   "source": [
    "import numpy as np\n",
    "\n",
    "filename = 'sometext.txt'\n",
    "f = open(filename, 'r') #Open file\n",
    "# When you iterate over a text file, you get lines\n",
    "for linenumber, lines in enumerate(f):\n",
    "    print(f'{linenumber} > {lines}')\n",
    "f.close()"
   ]
  },
  {
   "cell_type": "markdown",
   "metadata": {},
   "source": [
    "Most of the time you can get away with iterating over objects, storing them and analysing. But things can quickly get out of hand if you have a large data or multiple loops\n",
    "\n",
    "__For Example__: \n",
    "- You have a large csv file. Iterating and appending results to a list is not going to be memory or cpu efficient. You need something that will allow you to parse one line at a time. \n",
    "\n",
    "- If you have to stream data from a server, webservice, or a camera, you are continuosly generating a series of values. Now you want to iterate through this, but you do not know the length of this data or when it will end. And you dont want to keep appending it into a list "
   ]
  },
  {
   "cell_type": "markdown",
   "metadata": {},
   "source": [
    "## Generators\n",
    "Generators are a simple, yet elegant type of iterators.\n",
    "\n",
    "__To create generators:__ \n",
    "- Define a function\n",
    "- instead of the return statement, use the __yield__ keyword. "
   ]
  },
  {
   "cell_type": "code",
   "execution_count": 82,
   "metadata": {
    "code_folding": [],
    "collapsed": true,
    "run_control": {
     "marked": false
    }
   },
   "outputs": [],
   "source": [
    "def charcount(filename):\n",
    "    \"\"\" Generator function that reads lines and  yields the line and characters in each line \"\"\"\n",
    "    with open(filename) as fin:\n",
    "        for linenumber, lines in enumerate(fin):\n",
    "            yield lines, len(lines)"
   ]
  },
  {
   "cell_type": "code",
   "execution_count": 83,
   "metadata": {
    "run_control": {
     "marked": false
    }
   },
   "outputs": [
    {
     "name": "stdout",
     "output_type": "stream",
     "text": [
      "<generator object charcount at 0x10fc0cca8>\n"
     ]
    }
   ],
   "source": [
    "c = charcount(filename='sometext.txt')\n",
    "print(c)"
   ]
  },
  {
   "cell_type": "markdown",
   "metadata": {},
   "source": [
    "A generator does not hold anything in memory\n",
    "<br>It \"yields\" one result at a time and hasnt computed anything till you ask for the value - by saying next"
   ]
  },
  {
   "cell_type": "code",
   "execution_count": 84,
   "metadata": {
    "collapsed": true
   },
   "outputs": [],
   "source": [
    "c1 = next(c)"
   ]
  },
  {
   "cell_type": "code",
   "execution_count": 85,
   "metadata": {
    "code_folding": []
   },
   "outputs": [
    {
     "name": "stdout",
     "output_type": "stream",
     "text": [
      "('The skill to do math on a page\\n', 31)\n"
     ]
    }
   ],
   "source": [
    "print(c1)"
   ]
  },
  {
   "cell_type": "markdown",
   "metadata": {},
   "source": [
    "Instead of calling next every time, you will typically use generator functions as an __iterator object__"
   ]
  },
  {
   "cell_type": "code",
   "execution_count": 86,
   "metadata": {
    "run_control": {
     "marked": false
    }
   },
   "outputs": [
    {
     "name": "stdout",
     "output_type": "stream",
     "text": [
      "> The skill to do math on a page \t char count: 31\n",
      "> Has declined to the point of outrage. \t char count: 38\n",
      "> Equations quadratica \t char count: 21\n",
      "> Are solved on Mathmatica, \t char count: 26\n",
      "> And on birthdays we don't know our age \t char count: 39\n"
     ]
    }
   ],
   "source": [
    "c = charcount(filename='sometext.txt')\n",
    "for l in c:\n",
    "    print(f'> {l[0][:-1]} \\t char count: {l[1]}')"
   ]
  },
  {
   "cell_type": "markdown",
   "metadata": {},
   "source": [
    "### Task1\n",
    "- Define a second generator that yields the number of words in each line\n",
    "- Use charcount(filename) as an input to this generator\n",
    "- output print statement should include (linenumber, charcount and word count)\n",
    "\n",
    "Tip : What I like to do when writing a generator is to print statements instead of yield.\n",
    "When I am satisfied with the accuracy of the print statement, I convert it to yield"
   ]
  },
  {
   "cell_type": "raw",
   "metadata": {},
   "source": [
    "def countwords(linearray):\n",
    "    \"\"\" Write a generator that gets the \n",
    "    number of words from each line of the csv file\n",
    "    Hint : Loop through the input argument linearray and yield the result\n",
    "    \"\"\"\n",
    "    "
   ]
  },
  {
   "cell_type": "raw",
   "metadata": {},
   "source": [
    "for () in countwords(charcount(filename = 'sometextIwrote.txt')):\n",
    "    print()"
   ]
  },
  {
   "cell_type": "markdown",
   "metadata": {},
   "source": [
    "### Task1: Solution"
   ]
  },
  {
   "cell_type": "markdown",
   "metadata": {},
   "source": [
    "## Generators are great for large datasets that you want to process one line at a time\n",
    "- a __generator__ is also an __iterator__!(not vice versa)\n",
    "- generators iterate over data __lazily__ without loading the entire data source into memory at once.\n",
    "\n",
    "__You make a generator that can be iterated over "
   ]
  },
  {
   "cell_type": "markdown",
   "metadata": {},
   "source": [
    "- When functions `return`, they are done for good. Generators are alive till values are exhausted\n",
    "- Functions always start from the first line, generators start where you left off : at __yield__ \n",
    "- __Limitation__ - with a generator you can only iterate. You can't peak ahead or look behind"
   ]
  },
  {
   "cell_type": "markdown",
   "metadata": {},
   "source": [
    "## Task 2 : Streaming with `yield`\n",
    "Multiple CSV files stored in a directory, contain information of x-y position of a swimming zebrafish across time.\n",
    "<br>__The task:__\n",
    "1. Loop through each csv file, acquire the x and y position and find distance travelled by the fish at each time point.\n",
    "2. To find distance travelled between two timepoints, you need to get the x and y position of fish at two consecutive frames.\n",
    "3. Using the acquired distance travelled, print time spent by the fish at a speed below the threshold. "
   ]
  },
  {
   "cell_type": "markdown",
   "metadata": {},
   "source": [
    "  <img src=\"files/fish.png\"  width=\"400\" >"
   ]
  },
  {
   "cell_type": "markdown",
   "metadata": {},
   "source": [
    "### Read from csv files - line by line"
   ]
  },
  {
   "cell_type": "code",
   "execution_count": 164,
   "metadata": {
    "collapsed": true
   },
   "outputs": [],
   "source": [
    "import csv\n",
    "import os\n",
    "\n",
    "\n",
    "def CSVfileGrabber(dirname):\n",
    "    \"\"\"Step 1 : Grab CSV files from a directory \"\"\"\n",
    "    for filename in os.listdir(dirname):\n",
    "        if filename.endswith('.csv'):\n",
    "            print('Working on: {}'.format(filename[:5]))  # Print name of fish\n",
    "            yield os.path.join(dirname, filename)\n",
    "\n",
    "\n",
    "def readxy(filename):\n",
    "    \"\"\"Step 2 : read the csv files line by line \"\"\"\n",
    "    with open(filename) as f:\n",
    "        csvreader = csv.reader(f)\n",
    "        for i, line in enumerate(csvreader):\n",
    "            # Skip a few lines\n",
    "            if i < 10:\n",
    "                continue\n",
    "            else:\n",
    "                 # x and y coordinates\n",
    "                x = int(line[2])\n",
    "                y = int(line[3])\n",
    "                yield (x, y)"
   ]
  },
  {
   "cell_type": "markdown",
   "metadata": {},
   "source": [
    "Just to make sure things are working"
   ]
  },
  {
   "cell_type": "code",
   "execution_count": 165,
   "metadata": {},
   "outputs": [
    {
     "name": "stdout",
     "output_type": "stream",
     "text": [
      "Working on: Fish1\n",
      "/Users/seetha/Desktop/Microbetest/ExampleFile/Fish1_example.csv\n",
      "Working on: Fish2\n",
      "/Users/seetha/Desktop/Microbetest/ExampleFile/Fish2_example.csv\n"
     ]
    }
   ],
   "source": [
    "dirname = '/Users/seetha/Desktop/Microbetest/ExampleFile/'  # A small sample dataset\n",
    "\n",
    "for files in CSVfileGrabber(dirname):\n",
    "    print(files)\n",
    "    \n",
    "# for files in CSVfileGrabber(dirname):\n",
    "#     numline = 0\n",
    "#     for g in readxy(files):\n",
    "#         numline += 1\n",
    "#     print('Parsed lines from this csv file is {}'.format(numline))"
   ]
  },
  {
   "cell_type": "markdown",
   "metadata": {},
   "source": [
    "### Get consecutive values for distance calculation"
   ]
  },
  {
   "cell_type": "code",
   "execution_count": 166,
   "metadata": {
    "collapsed": true
   },
   "outputs": [],
   "source": [
    "def consecutivexy1(linearray):\n",
    "    \"\"\"Step 4: get consecutive xy values\"\"\"\n",
    "    # Here we want to get two consecutive xy to get speed/frame\n",
    "    # Make use of the next keyword\n",
    "    for i, line in enumerate(linearray):\n",
    "        if i == 0:\n",
    "            prevxy = line\n",
    "            nextxy = next(linearray)\n",
    "        else:\n",
    "            prevxy = nextxy\n",
    "            nextxy = line\n",
    "        yield prevxy, nextxy"
   ]
  },
  {
   "cell_type": "markdown",
   "metadata": {},
   "source": [
    "A nice way to do this is to use itertools (which is an amazing library for looping through iterators) https://docs.python.org/3/library/itertools.html\n",
    "<br> `tee` : Return n independent iterators from a single iterable. `tee(seq, n)`"
   ]
  },
  {
   "cell_type": "code",
   "execution_count": 167,
   "metadata": {
    "collapsed": true
   },
   "outputs": [],
   "source": [
    "from itertools import tee\n",
    "\n",
    "\n",
    "def consecutivexy2(linearray):\n",
    "    # This makes two copies of the same iterable\n",
    "    prevxy, nextxy = tee(linearray, 2)\n",
    "    next(nextxy)  # discard one\n",
    "    yield from zip(prevxy, nextxy)  # Note here I am using \"yield from\""
   ]
  },
  {
   "cell_type": "code",
   "execution_count": 168,
   "metadata": {},
   "outputs": [
    {
     "name": "stdout",
     "output_type": "stream",
     "text": [
      "Working on: Fish1\n",
      "Parsed lines from this csv file is 16\n",
      "Working on: Fish2\n",
      "Parsed lines from this csv file is 16\n"
     ]
    }
   ],
   "source": [
    "# Just to make sure things are working\n",
    "for files in CSVfileGrabber(dirname):\n",
    "    numline = 0\n",
    "    for x, y in consecutivexy2(readxy(files)):\n",
    "        #         print(x, y)\n",
    "        numline += 1\n",
    "    print('Parsed lines from this csv file is {}'.format(numline))"
   ]
  },
  {
   "cell_type": "markdown",
   "metadata": {},
   "source": [
    "### Sidenote : `yield from`\n",
    "With `yield from`, we can skip an extra `for` loop"
   ]
  },
  {
   "cell_type": "raw",
   "metadata": {},
   "source": [
    "yield from sequence\n",
    "\n",
    "#is same as\n",
    "\n",
    "for elem in sequence:\n",
    "    yield elem"
   ]
  },
  {
   "cell_type": "code",
   "execution_count": 44,
   "metadata": {},
   "outputs": [
    {
     "name": "stdout",
     "output_type": "stream",
     "text": [
      "(0, 6)\n",
      "(1, 7)\n",
      "(2, 8)\n",
      "(3, 9)\n",
      "(4, 10)\n"
     ]
    }
   ],
   "source": [
    "# A simple example to see what the yield from function will do\n",
    "A = range(5)\n",
    "B = range(6, 11)\n",
    "\n",
    "# Without yield from\n",
    "def temp(range1, range2):\n",
    "    for a, b in zip(range1, range2):\n",
    "        yield a, b\n",
    "        \n",
    "# Two loops!! You need two loops!!\n",
    "for i in temp(A, B):\n",
    "    print(i)"
   ]
  },
  {
   "cell_type": "code",
   "execution_count": 45,
   "metadata": {},
   "outputs": [
    {
     "name": "stdout",
     "output_type": "stream",
     "text": [
      "(0, 6)\n",
      "(1, 7)\n",
      "(2, 8)\n",
      "(3, 9)\n",
      "(4, 10)\n"
     ]
    }
   ],
   "source": [
    "# After Python 3.3 and existance of yield from\n",
    "def yieldfromexample(A, B):\n",
    "    yield from zip(A, B)\n",
    "for i in yieldfromexample(A, B):\n",
    "    print(i)"
   ]
  },
  {
   "cell_type": "markdown",
   "metadata": {},
   "source": [
    "`Yield from` is especially useful when you have multiple iterators, recursive data structures"
   ]
  },
  {
   "cell_type": "markdown",
   "metadata": {},
   "source": [
    "## Write the next parts on your own\n",
    "- Step 5 : Calculate distance between the two consecutive points\n",
    "- Step 6 : Put it all together"
   ]
  },
  {
   "cell_type": "code",
   "execution_count": 46,
   "metadata": {
    "collapsed": true
   },
   "outputs": [],
   "source": [
    "# Step 5: Calculate euclidean distance\n",
    "import math\n",
    "\n",
    "\n",
    "def getdist(xy):\n",
    "    \"\"\"  \n",
    "    Write a generator function that recieves \n",
    "    the previous and next x-y location of the fish \n",
    "    and calculates the distance between the two points\n",
    "    \n",
    "    Euclidean distance between two points (x1, y1) and (x2, y2) is \n",
    "    sqrt((x1-x2)^2 + (y1-y2)^2)\n",
    "   \"\"\""
   ]
  },
  {
   "cell_type": "code",
   "execution_count": null,
   "metadata": {
    "collapsed": true
   },
   "outputs": [],
   "source": [
    "# Step 6: Put it all together\n",
    "def getframes(dist, threshold, frames_per_sec):\n",
    "    \"\"\"\n",
    "    Count frames with distance below a user-defined threshold and\n",
    "    complete the print statement given below\n",
    "    (Hint: use enumerate to find number of frames)\n",
    "    \n",
    "    Example:\n",
    "    Of 16.27 seconds recording time, time spent with speed less than 10 is 12.83 seconds\n",
    "    \"\"\"\n",
    "    \n",
    "    print(f'Of {:0.2f} seconds recording time, time spent with speed less than {} is {:0.2f} seconds')"
   ]
  },
  {
   "cell_type": "markdown",
   "metadata": {},
   "source": [
    "### Task2: Solution\n",
    "Will be inserted here"
   ]
  },
  {
   "cell_type": "code",
   "execution_count": 188,
   "metadata": {
    "collapsed": true
   },
   "outputs": [],
   "source": [
    "import math\n",
    "\n",
    "\n",
    "def getdist(xy):\n",
    "    # Calculate euclidean distance\n",
    "    for prevxy, nextxy in xy:\n",
    "        # zip allows you to iterate two lists parallely\n",
    "        dist = [(a - b)**2 for a, b in zip(prevxy, nextxy)]\n",
    "        dist = math.sqrt(sum(dist))\n",
    "        yield dist\n",
    "\n",
    "@tz.curry\n",
    "def getframes(dist, threshold=10, frames_per_sec=30):\n",
    "    dist_count = 0\n",
    "    for i, d in enumerate(dist):\n",
    "        if d < threshold:\n",
    "            dist_count += 1\n",
    "    print('Of {:0.3f} seconds recording time, time spent with speed less than {} is {:0.3f} seconds'.format(\n",
    "        i / frames_per_sec, threshold, dist_count / frames_per_sec))"
   ]
  },
  {
   "cell_type": "code",
   "execution_count": 189,
   "metadata": {},
   "outputs": [
    {
     "name": "stdout",
     "output_type": "stream",
     "text": [
      "Working on: Fish1\n",
      "Of 16.267 seconds recording time, time spent with speed less than 10 is 12.833 seconds\n",
      "Working on: Fish6\n",
      "Of 16.267 seconds recording time, time spent with speed less than 10 is 15.133 seconds\n"
     ]
    }
   ],
   "source": [
    "# Test your code with larger datasets\n",
    "dirname = '/Users/seetha/Desktop/Microbetest/Collective/'\n",
    "for files in CSVfileGrabber(dirname):\n",
    "    getframes(\n",
    "        getdist(\n",
    "            consecutivexy1(\n",
    "                readxy(files))), threshold=10, frames_per_sec=30)"
   ]
  },
  {
   "cell_type": "markdown",
   "metadata": {},
   "source": [
    "## The above statement that calls multiple generators looks ugly. <br> \n",
    "In such cases, with multiple genertors lined up, yield can start to feel unintuitive and tedious\n",
    "\n",
    "Enter Toolz\n",
    "<br> Toolz by Matt Rocklin - http://toolz.readthedocs.io/en/latest/\n",
    "<br> It makes streaming super easy - intuitive and concise !\n",
    "\n",
    "For more examples and explanation from Elegant Scipy written by the brilliant ASPP faculty - https://github.com/elegant-scipy/notebooks/blob/master/notebooks/ch8.ipynb\n",
    "\n",
    "(Filed under things I can't believe I hardly used before this tutorial)"
   ]
  },
  {
   "cell_type": "code",
   "execution_count": 190,
   "metadata": {
    "collapsed": true
   },
   "outputs": [],
   "source": [
    "import toolz as tz"
   ]
  },
  {
   "cell_type": "markdown",
   "metadata": {},
   "source": [
    "#### tz.pipe - passes a value through a sequence of functions - one by one\n",
    "Pipe is simply syntactic sugar to make multiple function calls easy"
   ]
  },
  {
   "cell_type": "code",
   "execution_count": 191,
   "metadata": {
    "collapsed": true
   },
   "outputs": [],
   "source": [
    "# This will do exactly as the previous call (without the added brackets)\n",
    "# The function calls are cleaner and can be read from left to right - which is sooo much better\n",
    "def pipeline(filename):\n",
    "    pipe = tz.pipe(filename,\n",
    "                readxy,\n",
    "                consecutivexy1,\n",
    "                getdist,\n",
    "                getframes(threshold=10, frames_per_sec=30)\n",
    "               )\n",
    "    return pipe"
   ]
  },
  {
   "cell_type": "code",
   "execution_count": 192,
   "metadata": {},
   "outputs": [
    {
     "data": {
      "text/plain": [
       "<function __main__.pipeline>"
      ]
     },
     "execution_count": 192,
     "metadata": {},
     "output_type": "execute_result"
    }
   ],
   "source": [
    "pipeline"
   ]
  },
  {
   "cell_type": "code",
   "execution_count": 193,
   "metadata": {},
   "outputs": [
    {
     "name": "stdout",
     "output_type": "stream",
     "text": [
      "Working on: Fish1\n",
      "Of 16.267 seconds recording time, time spent with speed less than 10 is 12.833 seconds\n",
      "Working on: Fish6\n",
      "Of 16.267 seconds recording time, time spent with speed less than 10 is 15.133 seconds\n"
     ]
    }
   ],
   "source": [
    "for i in CSVfileGrabber(dirname):\n",
    "    pipeline(i)"
   ]
  },
  {
   "cell_type": "markdown",
   "metadata": {},
   "source": [
    "### What happened there?"
   ]
  },
  {
   "cell_type": "markdown",
   "metadata": {},
   "source": [
    "## The magic of curry"
   ]
  },
  {
   "cell_type": "markdown",
   "metadata": {},
   "source": [
    "<br> Curry = Haskell Brooks Curry \n",
    "<br> __\"Currying\"__ means partially evaluating a function and returning another function. "
   ]
  },
  {
   "cell_type": "code",
   "execution_count": null,
   "metadata": {
    "collapsed": true
   },
   "outputs": [],
   "source": [
    "# If you dont give all inputs to a python function, it becomes angry\n",
    "sum()"
   ]
  },
  {
   "cell_type": "markdown",
   "metadata": {},
   "source": [
    "### By currying, we are breaking down the evaluation of a function \n",
    "A curried function evaluates partially when you dont give it all the arguments, and fully when all arguments are available. "
   ]
  },
  {
   "cell_type": "code",
   "execution_count": 155,
   "metadata": {
    "collapsed": true
   },
   "outputs": [],
   "source": [
    "def currythis(my_function):\n",
    "    def f1(a):\n",
    "        def f2(b):\n",
    "            return my_function(a, b)  \n",
    "        return f2\n",
    "    return f1\n",
    "\n",
    "def func1(a, b):\n",
    "    return a + b"
   ]
  },
  {
   "cell_type": "code",
   "execution_count": 157,
   "metadata": {},
   "outputs": [
    {
     "ename": "TypeError",
     "evalue": "func1() missing 1 required positional argument: 'b'",
     "output_type": "error",
     "traceback": [
      "\u001b[0;31m---------------------------------------------------------------------------\u001b[0m",
      "\u001b[0;31mTypeError\u001b[0m                                 Traceback (most recent call last)",
      "\u001b[0;32m<ipython-input-157-63890d2d1c3d>\u001b[0m in \u001b[0;36m<module>\u001b[0;34m()\u001b[0m\n\u001b[0;32m----> 1\u001b[0;31m \u001b[0mfunc1\u001b[0m\u001b[0;34m(\u001b[0m\u001b[0;36m1\u001b[0m\u001b[0;34m)\u001b[0m\u001b[0;34m\u001b[0m\u001b[0m\n\u001b[0m",
      "\u001b[0;31mTypeError\u001b[0m: func1() missing 1 required positional argument: 'b'"
     ]
    }
   ],
   "source": [
    "func1(1)"
   ]
  },
  {
   "cell_type": "code",
   "execution_count": 158,
   "metadata": {
    "collapsed": true
   },
   "outputs": [],
   "source": [
    "f = currythis(my_function=func1) #Define a curried function"
   ]
  },
  {
   "cell_type": "code",
   "execution_count": 161,
   "metadata": {},
   "outputs": [
    {
     "data": {
      "text/plain": [
       "<function __main__.currythis.<locals>.f1.<locals>.f2>"
      ]
     },
     "execution_count": 161,
     "metadata": {},
     "output_type": "execute_result"
    }
   ],
   "source": [
    "f(1)"
   ]
  },
  {
   "cell_type": "markdown",
   "metadata": {},
   "source": [
    "## Sidenote : Functions taking functions as input\n",
    "__`Map` function in python__ : Returns an iterator that applies function to every item of iterable, yielding the results\n",
    "<br>`map(function_to_apply, list_of_inputs)`"
   ]
  },
  {
   "cell_type": "code",
   "execution_count": 196,
   "metadata": {},
   "outputs": [
    {
     "data": {
      "text/plain": [
       "[2, 4]"
      ]
     },
     "execution_count": 196,
     "metadata": {},
     "output_type": "execute_result"
    }
   ],
   "source": [
    "def getlen(text):\n",
    "    return len(text.split())\n",
    "\n",
    "map(getlen, ['Im ok', 'I will be ok'])"
   ]
  },
  {
   "cell_type": "code",
   "execution_count": 195,
   "metadata": {
    "run_control": {
     "marked": true
    }
   },
   "outputs": [
    {
     "name": "stdout",
     "output_type": "stream",
     "text": [
      "8 7 2 4 8 "
     ]
    }
   ],
   "source": [
    "filename = 'sometext.txt'\n",
    "with open(filename) as f:\n",
    "    for i in map(getlen, f):\n",
    "        print(i, end=\" \")"
   ]
  },
  {
   "cell_type": "markdown",
   "metadata": {},
   "source": [
    "What would this function look like?"
   ]
  },
  {
   "cell_type": "code",
   "execution_count": 89,
   "metadata": {
    "collapsed": true
   },
   "outputs": [],
   "source": [
    "def a_map_function(myfunc, myseq):\n",
    "    for x in myseq: \n",
    "        yield myfunc(x)"
   ]
  },
  {
   "cell_type": "code",
   "execution_count": 90,
   "metadata": {},
   "outputs": [
    {
     "name": "stdout",
     "output_type": "stream",
     "text": [
      "8 7 2 4 8 "
     ]
    }
   ],
   "source": [
    "with open(filename) as f:\n",
    "    for i in a_map_function(getlen, f):\n",
    "        print(i, end=\" \")"
   ]
  },
  {
   "cell_type": "markdown",
   "metadata": {},
   "source": [
    "## Task 3 \n",
    "__filter__ - Construct an iterator from those elements of iterable for which function returns true\n",
    "<br>__To Do__ : Impliment the built-in filter function by yourself. <br> `filter(function, iterator)`\n",
    "Get those lines of the textfile which contain greater than 10 letter words"
   ]
  },
  {
   "cell_type": "markdown",
   "metadata": {},
   "source": [
    "### Task3 : Solution "
   ]
  },
  {
   "cell_type": "code",
   "execution_count": 153,
   "metadata": {
    "code_folding": [],
    "collapsed": true
   },
   "outputs": [],
   "source": [
    "def words(text):\n",
    "    for i in text.split():\n",
    "        if len(i) > 10:\n",
    "            return True\n",
    "        \n",
    "def myfilter(myfunc, myseq):\n",
    "    for x in myseq:\n",
    "        if myfunc(x):\n",
    "            yield x\n",
    "        else:\n",
    "            continue"
   ]
  },
  {
   "cell_type": "code",
   "execution_count": 154,
   "metadata": {},
   "outputs": [
    {
     "name": "stdout",
     "output_type": "stream",
     "text": [
      "Are solved on Mathematica,\n",
      "\n"
     ]
    }
   ],
   "source": [
    "with open(filename) as f:\n",
    "    for i in myfilter(words, f):\n",
    "        print(i, end=\"\\n\")"
   ]
  },
  {
   "cell_type": "markdown",
   "metadata": {},
   "source": [
    "## Lets get back to curry now"
   ]
  },
  {
   "cell_type": "code",
   "execution_count": 162,
   "metadata": {
    "collapsed": true
   },
   "outputs": [],
   "source": [
    "def currythis(my_function):\n",
    "    \"\"\"\n",
    "    In python, functions can take other functions as input and even return them.\n",
    "    \"\"\"\n",
    "    print('Going in')\n",
    "    def f1(a):\n",
    "        print('Evaluating partially give input', a)\n",
    "        def f2(b):\n",
    "            print('Evaluating fully after getting input', b)\n",
    "            return my_function(a, b)  \n",
    "#         print('f2', f2)\n",
    "        return f2\n",
    "#     print('f1', f1)\n",
    "    return f1\n",
    "\n",
    "def func1(a, b):\n",
    "    return a + b"
   ]
  },
  {
   "cell_type": "code",
   "execution_count": 42,
   "metadata": {},
   "outputs": [
    {
     "name": "stdout",
     "output_type": "stream",
     "text": [
      "Going in\n"
     ]
    }
   ],
   "source": [
    "f = currythis(my_function=func1) #Define a curried function"
   ]
  },
  {
   "cell_type": "code",
   "execution_count": 43,
   "metadata": {},
   "outputs": [
    {
     "name": "stdout",
     "output_type": "stream",
     "text": [
      "Evaluating partially give input 1\n"
     ]
    }
   ],
   "source": [
    "g = f(1) #Just holds on to the value and produces no error"
   ]
  },
  {
   "cell_type": "code",
   "execution_count": 44,
   "metadata": {},
   "outputs": [
    {
     "name": "stdout",
     "output_type": "stream",
     "text": [
      "Evaluating fully after getting input 2\n"
     ]
    },
    {
     "data": {
      "text/plain": [
       "3"
      ]
     },
     "execution_count": 44,
     "metadata": {},
     "output_type": "execute_result"
    }
   ],
   "source": [
    "g(2)"
   ]
  },
  {
   "cell_type": "markdown",
   "metadata": {},
   "source": [
    "`@currythis` is just syntactic sugar for `currythis(func1)`\n",
    "<br> The `@` operator defines a decorator"
   ]
  },
  {
   "cell_type": "code",
   "execution_count": 45,
   "metadata": {},
   "outputs": [
    {
     "name": "stdout",
     "output_type": "stream",
     "text": [
      "Going in\n"
     ]
    }
   ],
   "source": [
    "@currythis\n",
    "def func1(x, y):\n",
    "    print(f'Sum {x + y}')\n",
    "    return x + y\n",
    "\n",
    "\n",
    "def test_curry(f, x, y):\n",
    "    f1 = f(x)\n",
    "    assert f1(y) == x + y"
   ]
  },
  {
   "cell_type": "code",
   "execution_count": 46,
   "metadata": {},
   "outputs": [
    {
     "name": "stdout",
     "output_type": "stream",
     "text": [
      "Evaluating partially give input 3\n",
      "Evaluating fully after getting input 5\n",
      "Sum 8\n"
     ]
    }
   ],
   "source": [
    "test_curry(func1, 3, 5) #If you provide the second argument now - the function is fully evaluated"
   ]
  },
  {
   "cell_type": "code",
   "execution_count": 47,
   "metadata": {},
   "outputs": [
    {
     "ename": "TypeError",
     "evalue": "f1() got an unexpected keyword argument 'b'",
     "output_type": "error",
     "traceback": [
      "\u001b[0;31m---------------------------------------------------------------------------\u001b[0m",
      "\u001b[0;31mTypeError\u001b[0m                                 Traceback (most recent call last)",
      "\u001b[0;32m<ipython-input-47-87e51722948a>\u001b[0m in \u001b[0;36m<module>\u001b[0;34m()\u001b[0m\n\u001b[1;32m      1\u001b[0m \u001b[0;31m#Try giving all the arguments to func1 now,\u001b[0m\u001b[0;34m\u001b[0m\u001b[0;34m\u001b[0m\u001b[0m\n\u001b[0;32m----> 2\u001b[0;31m \u001b[0mfunc1\u001b[0m\u001b[0;34m(\u001b[0m\u001b[0ma\u001b[0m \u001b[0;34m=\u001b[0m \u001b[0;36m3\u001b[0m\u001b[0;34m,\u001b[0m \u001b[0mb\u001b[0m \u001b[0;34m=\u001b[0m \u001b[0;36m5\u001b[0m\u001b[0;34m)\u001b[0m \u001b[0;31m#Why doesnt this work?\u001b[0m\u001b[0;34m\u001b[0m\u001b[0m\n\u001b[0m",
      "\u001b[0;31mTypeError\u001b[0m: f1() got an unexpected keyword argument 'b'"
     ]
    }
   ],
   "source": [
    "#Try giving all the arguments to func1 now, \n",
    "func1(a = 3, b = 5) #Why doesnt this work?"
   ]
  },
  {
   "cell_type": "code",
   "execution_count": 48,
   "metadata": {
    "collapsed": true
   },
   "outputs": [],
   "source": [
    "import functools\n",
    "def currythis(my_function):\n",
    "    print('Going in')\n",
    "    def new_func(*args, **kwargs):\n",
    "        try:\n",
    "            return my_function(*args, **kwargs)\n",
    "        except TypeError:\n",
    "            print('Not all arguments given')\n",
    "            return functools.partial(new_func, *args, **kwargs)\n",
    "    return new_func"
   ]
  },
  {
   "cell_type": "code",
   "execution_count": 55,
   "metadata": {},
   "outputs": [
    {
     "name": "stdout",
     "output_type": "stream",
     "text": [
      "Going in\n"
     ]
    }
   ],
   "source": [
    "@currythis\n",
    "def func1(a, b, c):\n",
    "    print(f'Sum {a+b+c}')\n",
    "    return a + b + c"
   ]
  },
  {
   "cell_type": "code",
   "execution_count": 58,
   "metadata": {},
   "outputs": [
    {
     "name": "stdout",
     "output_type": "stream",
     "text": [
      "Not all arguments given\n"
     ]
    },
    {
     "data": {
      "text/plain": [
       "functools.partial(<function currythis.<locals>.new_func at 0x10fbf0158>, b=1, c=2)"
      ]
     },
     "execution_count": 58,
     "metadata": {},
     "output_type": "execute_result"
    }
   ],
   "source": [
    "f = func1(b = 1, c = 2)\n",
    "f"
   ]
  },
  {
   "cell_type": "code",
   "execution_count": 57,
   "metadata": {},
   "outputs": [
    {
     "name": "stdout",
     "output_type": "stream",
     "text": [
      "Sum 6\n"
     ]
    },
    {
     "data": {
      "text/plain": [
       "6"
      ]
     },
     "execution_count": 57,
     "metadata": {},
     "output_type": "execute_result"
    }
   ],
   "source": [
    "f(3)"
   ]
  },
  {
   "cell_type": "markdown",
   "metadata": {},
   "source": [
    "`tz.curry` works in a similar manner"
   ]
  },
  {
   "cell_type": "code",
   "execution_count": 1,
   "metadata": {
    "collapsed": true
   },
   "outputs": [],
   "source": [
    "from toolz import curry\n",
    "@curry\n",
    "def func1(a, b, c):\n",
    "    print(f'Sum {a+b+c}')\n",
    "    return a + b + c"
   ]
  },
  {
   "cell_type": "code",
   "execution_count": 2,
   "metadata": {
    "collapsed": true
   },
   "outputs": [],
   "source": [
    "f = func1(b = 1, c = 2)"
   ]
  },
  {
   "cell_type": "code",
   "execution_count": 3,
   "metadata": {},
   "outputs": [
    {
     "name": "stdout",
     "output_type": "stream",
     "text": [
      "Sum 6\n"
     ]
    },
    {
     "data": {
      "text/plain": [
       "6"
      ]
     },
     "execution_count": 3,
     "metadata": {},
     "output_type": "execute_result"
    }
   ],
   "source": [
    "f(3)"
   ]
  },
  {
   "cell_type": "markdown",
   "metadata": {},
   "source": [
    "### In our pipeline:\n",
    "- functions can be defined as `func1(sequence, *args, **kwargs)`. The @curry decorator converts them into a curried function."
   ]
  },
  {
   "cell_type": "markdown",
   "metadata": {},
   "source": [
    "## Task 4: if time permits\n",
    "use toolz.pipe "
   ]
  },
  {
   "cell_type": "code",
   "execution_count": null,
   "metadata": {
    "collapsed": true
   },
   "outputs": [],
   "source": []
  },
  {
   "cell_type": "markdown",
   "metadata": {},
   "source": [
    "### All the functions in toolz are curried"
   ]
  },
  {
   "cell_type": "markdown",
   "metadata": {},
   "source": [
    "Toolz has a number of useful curried functions to help us stream. <br> All of the Toolz functions are available as curried functions in the toolz.curried namespace. And it also gives curried versions of functions like map, filter and reduce.\n",
    "\n",
    "You can also write any function that will analyse your dataset, line by line, which can then be curried and passed on to the toolz pipeline\n",
    "\n",
    "Reminder :\n",
    "1. map - Return an iterator that applies function to every item of iterable, yielding the results\n",
    "2. filter - Construct an iterator from those elements of iterable for which function returns true\n",
    "3. reduce - Performing some computation on an iterator and returning the result."
   ]
  }
 ],
 "metadata": {
  "kernelspec": {
   "display_name": "Python 3",
   "language": "python",
   "name": "python3"
  },
  "language_info": {
   "codemirror_mode": {
    "name": "ipython",
    "version": 3
   },
   "file_extension": ".py",
   "mimetype": "text/x-python",
   "name": "python",
   "nbconvert_exporter": "python",
   "pygments_lexer": "ipython3",
   "version": "3.6.3"
  },
  "toc": {
   "nav_menu": {},
   "number_sections": false,
   "sideBar": true,
   "skip_h1_title": false,
   "toc_cell": false,
   "toc_position": {},
   "toc_section_display": "block",
   "toc_window_display": true
  }
 },
 "nbformat": 4,
 "nbformat_minor": 2
}
