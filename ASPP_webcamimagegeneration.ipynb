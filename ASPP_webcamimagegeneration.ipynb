{
 "cells": [
  {
   "cell_type": "code",
   "execution_count": null,
   "metadata": {
    "collapsed": true
   },
   "outputs": [],
   "source": [
    "## Import libraries\n",
    "%matplotlib inline\n",
    "import cv2\n",
    "import matplotlib.pyplot as plt\n",
    "from IPython import display\n",
    "import datetime\n",
    "import time"
   ]
  },
  {
   "cell_type": "code",
   "execution_count": null,
   "metadata": {},
   "outputs": [],
   "source": [
    "# webcam related class - iterators\n",
    "class openwebcam:\n",
    "    def __init__(self, seconds):\n",
    "        self.seconds = seconds #Time to capture video\n",
    "        self.vc = cv2.VideoCapture(0) #Open webcam 0:first camera, usually webcam on laptops\n",
    "        self.starttime = datetime.datetime.now()\n",
    "        \n",
    "    def __iter__(self):\n",
    "        self.elapsedtime = None\n",
    "        return self\n",
    "    \n",
    "    def next(self):\n",
    "        self.elapsedtime = (datetime.datetime.now() - self.starttime).total_seconds() # Count elapsed time\n",
    "        self.plotfromwebcam()\n",
    "        if self.elapsedtime > self.seconds: #Get out when enought time has passed\n",
    "            raise StopIteration\n",
    "        return self.elapsedtime\n",
    "    \n",
    "    def plotfromwebcam(self):\n",
    "        if self.vc.isOpened(): \n",
    "            is_capturing, frame = self.vc.read()\n",
    "            frame = cv2.cvtColor(frame, cv2.COLOR_BGR2RGB)\n",
    "            \n",
    "            webcam_preview = plt.imshow(frame)   \n",
    "            plt.draw()            \n",
    "            display.clear_output(wait=True) #Clears output of current cell, waits until next output\n",
    "            display.display(plt.gcf())\n",
    "            plt.close()\n",
    "            \n",
    "        else:\n",
    "            raise Exception('The camera has gone missing.')\n",
    "\n",
    "    def __exit__(self):\n",
    "        self.vc.release()\n",
    "        \n",
    "for i in openwebcam(5):\n",
    "    plt.text(5, 100, 'ElapsedTime: %0.2f' %i, color='red', fontsize=14) #Display elapsed time"
   ]
  },
  {
   "cell_type": "code",
   "execution_count": null,
   "metadata": {
    "collapsed": true
   },
   "outputs": [],
   "source": [
    "#Plot from webcam using iterators\n"
   ]
  }
 ],
 "metadata": {
  "kernelspec": {
   "display_name": "Python 2",
   "language": "python",
   "name": "python2"
  },
  "language_info": {
   "codemirror_mode": {
    "name": "ipython",
    "version": 2
   },
   "file_extension": ".py",
   "mimetype": "text/x-python",
   "name": "python",
   "nbconvert_exporter": "python",
   "pygments_lexer": "ipython2",
   "version": "2.7.12"
  }
 },
 "nbformat": 4,
 "nbformat_minor": 2
}
