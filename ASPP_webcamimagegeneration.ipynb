{
 "cells": [
  {
   "cell_type": "code",
   "execution_count": null,
   "metadata": {
    "collapsed": true
   },
   "outputs": [],
   "source": [
    "## Import libraries\n",
    "%matplotlib inline\n",
    "import cv2\n",
    "import matplotlib.pyplot as plt\n",
    "from IPython import display\n",
    "import datetime\n",
    "import time"
   ]
  },
  {
   "cell_type": "code",
   "execution_count": null,
   "metadata": {},
   "outputs": [],
   "source": [
    "# webcam related class\n",
    "class openwebcam:\n",
    "    def __init__(self, seconds):\n",
    "        self.seconds = seconds #Time to capture video\n",
    "    \n",
    "    def __iter__(self):\n",
    "        self.vc = cv2.VideoCapture(0) #Open webcam\n",
    "        self.starttime = datetime.datetime.now()\n",
    "        self.elapsedtime = None\n",
    "        return self\n",
    "    \n",
    "    def next(self):\n",
    "        self.elapsedtime = (datetime.datetime.now() - self.starttime).total_seconds()\n",
    "        self.plotfromwebcam()\n",
    "        if self.elapsedtime > self.seconds:\n",
    "            self.closewebcam\n",
    "            raise StopIteration\n",
    "        return self.elapsedtime\n",
    "    \n",
    "    def plotfromwebcam(self):\n",
    "        if self.vc.isOpened(): # try to get the first frame\n",
    "            is_capturing, frame = self.vc.read()\n",
    "            frame = cv2.cvtColor(frame, cv2.COLOR_BGR2RGB)\n",
    "            \n",
    "            webcam_preview = plt.imshow(frame)   \n",
    "            plt.draw()            \n",
    "            display.clear_output(wait=True) #Clears output of current cell, waits until next output\n",
    "            display.display(plt.gcf())\n",
    "            plt.close()\n",
    "            \n",
    "            time.sleep(0.5) #Update display ever half a second\n",
    "        else:\n",
    "            print 'The camera has gone missing. The world is ending'\n",
    "            is_capturing = False     \n",
    "            self.elapsedtime = self.seconds + 1 #A cheat to get out of loop\n",
    "\n",
    "    def closewebcam(self):\n",
    "        self.vc.release()\n",
    "        \n",
    "for i in openwebcam(5):\n",
    "    plt.text(5, 100, 'ElapsedTime: %0.2f' %i, color='red', fontsize=14) #Display elapsed time"
   ]
  }
 ],
 "metadata": {
  "kernelspec": {
   "display_name": "Python 2",
   "language": "python",
   "name": "python2"
  },
  "language_info": {
   "codemirror_mode": {
    "name": "ipython",
    "version": 2
   },
   "file_extension": ".py",
   "mimetype": "text/x-python",
   "name": "python",
   "nbconvert_exporter": "python",
   "pygments_lexer": "ipython2",
   "version": "2.7.12"
  }
 },
 "nbformat": 4,
 "nbformat_minor": 2
}
