{
 "cells": [
  {
   "cell_type": "markdown",
   "metadata": {},
   "source": [
    "# Understanding Iterators and (mostly) Generators\n",
    "Seetha Krishnan\n",
    "<br>\n",
    "ASPP - Asia Pacific 2018"
   ]
  },
  {
   "cell_type": "markdown",
   "metadata": {},
   "source": [
    "## Iterators\n",
    "Iterators are everywhere. \n",
    "An iterator is simply an object that can be iterated upon, say using a `for` loop\n",
    "\n",
    "In this extremely simple example, the __range(4)__ is the iterable object which at each iteration provides a different value to the __\"i\"__ variable."
   ]
  },
  {
   "cell_type": "code",
   "execution_count": 19,
   "metadata": {},
   "outputs": [
    {
     "name": "stdout",
     "output_type": "stream",
     "text": [
      "0\n",
      "1\n",
      "2\n",
      "3\n"
     ]
    }
   ],
   "source": [
    "for i in range(4):\n",
    "    print(i)"
   ]
  },
  {
   "cell_type": "markdown",
   "metadata": {},
   "source": [
    "You can iterate over strings, lists, files, dictionaries etc"
   ]
  },
  {
   "cell_type": "code",
   "execution_count": 20,
   "metadata": {
    "code_folding": []
   },
   "outputs": [
    {
     "name": "stdout",
     "output_type": "stream",
     "text": [
      "0 > The skill to do math on a page\n",
      "\n",
      "1 > Has declined to the point of outrage.\n",
      "\n",
      "2 > Equations quadratica\n",
      "\n",
      "3 > Are solved on Mathematica,\n",
      "\n",
      "4 > And on birthdays we don't know our age.\n"
     ]
    }
   ],
   "source": [
    "import numpy as np\n",
    "\n",
    "with open(filename) as f:\n",
    "    for linenumber, lines in enumerate(f):\n",
    "        print(f'{linenumber} > {lines}')"
   ]
  },
  {
   "cell_type": "markdown",
   "metadata": {},
   "source": [
    "Most of the time you can get away with iterating over objects, storing them and analysing. But things can quickly get out of hand if you have a large data or multiple loops\n",
    "\n",
    "__For Example__: \n",
    "- You have a large csv file. Iterating and appending results to a list is not going to be memory or cpu efficient. You need something that will allow you to parse one line at a time. \n",
    "\n",
    "- If you have to stream data from a server, webservice, or a camera, you are continuosly generating a series of values. Now you want to iterate through this, but you do not know the length of this data or when it will end. And you dont want to keep appending it into a list "
   ]
  },
  {
   "cell_type": "markdown",
   "metadata": {},
   "source": [
    "## Generators\n",
    "Generators are a simple, yet elegant type of iterators.\n",
    "\n",
    "__To create generators:__ \n",
    "- Define a function\n",
    "- instead of the return statement, use the __yield__ keyword. "
   ]
  },
  {
   "cell_type": "code",
   "execution_count": 21,
   "metadata": {
    "code_folding": [],
    "collapsed": true,
    "run_control": {
     "marked": false
    }
   },
   "outputs": [],
   "source": [
    "def charcount(filename):\n",
    "    \"\"\" Generator function that reads lines and  yields the line and characters in each line \"\"\"\n",
    "    with open(filename) as fin:\n",
    "        for linenumber, lines in enumerate(fin):\n",
    "            yield lines, len(lines)"
   ]
  },
  {
   "cell_type": "code",
   "execution_count": 22,
   "metadata": {
    "run_control": {
     "marked": false
    }
   },
   "outputs": [
    {
     "name": "stdout",
     "output_type": "stream",
     "text": [
      "<generator object charcount at 0x10e2cf938>\n"
     ]
    }
   ],
   "source": [
    "c = charcount(filename='sometext.txt')\n",
    "print(c)"
   ]
  },
  {
   "cell_type": "markdown",
   "metadata": {},
   "source": [
    "A generator does not hold anything in memory\n",
    "<br>It \"yields\" one result at a time and hasnt computed anything till you ask for the value - by saying next"
   ]
  },
  {
   "cell_type": "code",
   "execution_count": 23,
   "metadata": {
    "collapsed": true
   },
   "outputs": [],
   "source": [
    "c1 = next(c)"
   ]
  },
  {
   "cell_type": "code",
   "execution_count": 24,
   "metadata": {
    "code_folding": []
   },
   "outputs": [
    {
     "name": "stdout",
     "output_type": "stream",
     "text": [
      "('The skill to do math on a page\\n', 31)\n"
     ]
    }
   ],
   "source": [
    "print(c1)"
   ]
  },
  {
   "cell_type": "markdown",
   "metadata": {},
   "source": [
    "Instead of calling next every time, you will typically use generator functions as an __iterator object__"
   ]
  },
  {
   "cell_type": "code",
   "execution_count": 25,
   "metadata": {
    "run_control": {
     "marked": false
    }
   },
   "outputs": [
    {
     "name": "stdout",
     "output_type": "stream",
     "text": [
      "> The skill to do math on a page \t char count: 31\n",
      "> Has declined to the point of outrage. \t char count: 38\n",
      "> Equations quadratica \t char count: 21\n",
      "> Are solved on Mathematica, \t char count: 27\n",
      "> And on birthdays we don't know our age \t char count: 39\n"
     ]
    }
   ],
   "source": [
    "c = charcount(filename='sometext.txt')\n",
    "for l in c:\n",
    "    print(f'> {l[0][:-1]} \\t char count: {l[1]}')"
   ]
  },
  {
   "cell_type": "markdown",
   "metadata": {},
   "source": [
    "#### See basic_generator_example.py"
   ]
  },
  {
   "cell_type": "markdown",
   "metadata": {},
   "source": [
    "### Task1\n",
    "- Define a second generator that yields the number of words in each line\n",
    "- Use charcount(filename) as an input to this generator\n",
    "- output print statement should include (linenumber, charcount and word count)\n",
    "\n",
    "Tip : What I like to do when writing a generator is to print statements instead of yield.\n",
    "When I am satisfied with the accuracy of the print statement, I convert it to yield"
   ]
  },
  {
   "cell_type": "raw",
   "metadata": {},
   "source": [
    "def countwords(linearray):\n",
    "    \"\"\" Write a generator that gets the \n",
    "    number of words from each line of the csv file\n",
    "    Hint : Loop through the input argument linearray and yield the result\n",
    "    \"\"\"\n",
    "    "
   ]
  },
  {
   "cell_type": "raw",
   "metadata": {},
   "source": [
    "for () in countwords(charcount(filename = 'sometextIwrote.txt')):\n",
    "    print()"
   ]
  },
  {
   "cell_type": "markdown",
   "metadata": {},
   "source": [
    "### Task1: Solution"
   ]
  },
  {
   "cell_type": "markdown",
   "metadata": {},
   "source": [
    "#### See basic_generator_example.py"
   ]
  },
  {
   "cell_type": "markdown",
   "metadata": {},
   "source": [
    "## Generators are great for large datasets that you want to process one line at a time\n",
    "- a __generator__ is also an __iterator__!(not vice versa)\n",
    "- generators iterate over data __lazily__ without loading the entire data source into memory at once.\n",
    "\n",
    "__You make a generator that can be iterated over "
   ]
  },
  {
   "cell_type": "markdown",
   "metadata": {},
   "source": [
    "- When functions `return`, they are done for good. Generators are alive till values are exhausted\n",
    "- Functions always start from the first line, generators start where you left off : at __yield__ \n",
    "- __Limitation__ - with a generator you can only iterate. You can't peak ahead or look behind"
   ]
  },
  {
   "cell_type": "markdown",
   "metadata": {},
   "source": [
    "## Task 2 : Streaming with `yield`\n",
    "Multiple CSV files stored in a directory, contain information of x-y position of a swimming zebrafish across time.\n",
    "<br>__The task:__\n",
    "1. Loop through each csv file, acquire the x and y position and find distance travelled by the fish at each time point.\n",
    "2. To find distance travelled between two timepoints, you need to get the x and y position of fish at two consecutive frames.\n",
    "3. Using the acquired distance travelled, print time spent by the fish at a speed below the threshold. "
   ]
  },
  {
   "cell_type": "markdown",
   "metadata": {},
   "source": [
    "  <img src=\"files/fish.png\"  width=\"400\" >"
   ]
  },
  {
   "cell_type": "markdown",
   "metadata": {},
   "source": [
    "### Read from csv files - line by line"
   ]
  },
  {
   "cell_type": "code",
   "execution_count": 26,
   "metadata": {
    "collapsed": true
   },
   "outputs": [],
   "source": [
    "import csv\n",
    "import os\n",
    "\n",
    "\n",
    "def CSVfileGrabber(dirname):\n",
    "    \"\"\"Step 1 : Grab CSV files from a directory \"\"\"\n",
    "    for filename in os.listdir(dirname):\n",
    "        if filename.endswith('.csv'):\n",
    "            print('Working on: {}'.format(filename[:5]))  # Print name of fish\n",
    "            yield os.path.join(dirname, filename)\n",
    "\n",
    "\n",
    "def readxy(filename):\n",
    "    \"\"\"Step 2 : read the csv files line by line \"\"\"\n",
    "    with open(filename) as f:\n",
    "        csvreader = csv.reader(f)\n",
    "        for i, line in enumerate(csvreader):\n",
    "            # Skip a few lines\n",
    "            if i < 10:\n",
    "                continue\n",
    "            else:\n",
    "                 # x and y coordinates\n",
    "                x = int(line[2])\n",
    "                y = int(line[3])\n",
    "                yield (x, y)"
   ]
  },
  {
   "cell_type": "markdown",
   "metadata": {},
   "source": [
    "Just to make sure things are working"
   ]
  },
  {
   "cell_type": "code",
   "execution_count": 27,
   "metadata": {},
   "outputs": [
    {
     "name": "stdout",
     "output_type": "stream",
     "text": [
      "Working on: Fish1\n",
      "/Users/seetha/Desktop/Microbetest/ExampleFile/Fish1_example.csv\n",
      "Working on: Fish2\n",
      "/Users/seetha/Desktop/Microbetest/ExampleFile/Fish2_example.csv\n"
     ]
    }
   ],
   "source": [
    "dirname = '/Users/seetha/Desktop/Microbetest/ExampleFile/'  # A small sample dataset\n",
    "\n",
    "for files in CSVfileGrabber(dirname):\n",
    "    print(files)\n",
    "    \n",
    "# for files in CSVfileGrabber(dirname):\n",
    "#     numline = 0\n",
    "#     for g in readxy(files):\n",
    "#         numline += 1\n",
    "#     print('Parsed lines from this csv file is {}'.format(numline))"
   ]
  },
  {
   "cell_type": "markdown",
   "metadata": {},
   "source": [
    "### Get consecutive values for distance calculation"
   ]
  },
  {
   "cell_type": "code",
   "execution_count": 28,
   "metadata": {
    "collapsed": true
   },
   "outputs": [],
   "source": [
    "def consecutivexy1(linearray):\n",
    "    \"\"\"Step 4: get consecutive xy values\"\"\"\n",
    "    # Here we want to get two consecutive xy to get speed/frame\n",
    "    # Make use of the next keyword\n",
    "    for i, line in enumerate(linearray):\n",
    "        if i == 0:\n",
    "            prevxy = line\n",
    "            nextxy = next(linearray)\n",
    "        else:\n",
    "            prevxy = nextxy\n",
    "            nextxy = line\n",
    "        yield prevxy, nextxy"
   ]
  },
  {
   "cell_type": "markdown",
   "metadata": {},
   "source": [
    "A nice way to do this is to use itertools (which is an amazing library for looping through iterators) https://docs.python.org/3/library/itertools.html\n",
    "<br> `tee` : Return n independent iterators from a single iterable. `tee(seq, n)`"
   ]
  },
  {
   "cell_type": "code",
   "execution_count": 29,
   "metadata": {
    "collapsed": true
   },
   "outputs": [],
   "source": [
    "from itertools import tee\n",
    "\n",
    "\n",
    "def consecutivexy2(linearray):\n",
    "    # This makes two copies of the same iterable\n",
    "    prevxy, nextxy = tee(linearray, 2)\n",
    "    next(nextxy)  # discard one\n",
    "    yield from zip(prevxy, nextxy)  # Note here I am using \"yield from\""
   ]
  },
  {
   "cell_type": "code",
   "execution_count": 30,
   "metadata": {},
   "outputs": [
    {
     "name": "stdout",
     "output_type": "stream",
     "text": [
      "Working on: Fish1\n",
      "Parsed lines from this csv file is 16\n",
      "Working on: Fish2\n",
      "Parsed lines from this csv file is 16\n"
     ]
    }
   ],
   "source": [
    "# Just to make sure things are working\n",
    "for files in CSVfileGrabber(dirname):\n",
    "    numline = 0\n",
    "    for x, y in consecutivexy2(readxy(files)):\n",
    "        #         print(x, y)\n",
    "        numline += 1\n",
    "    print('Parsed lines from this csv file is {}'.format(numline))"
   ]
  },
  {
   "cell_type": "markdown",
   "metadata": {},
   "source": [
    "### Sidenote : `yield from`\n",
    "With `yield from`, we can skip an extra `for` loop"
   ]
  },
  {
   "cell_type": "raw",
   "metadata": {},
   "source": [
    "yield from sequence\n",
    "\n",
    "#is same as\n",
    "\n",
    "for elem in sequence:\n",
    "    yield elem"
   ]
  },
  {
   "cell_type": "code",
   "execution_count": 31,
   "metadata": {},
   "outputs": [
    {
     "name": "stdout",
     "output_type": "stream",
     "text": [
      "(0, 6)\n",
      "(1, 7)\n",
      "(2, 8)\n",
      "(3, 9)\n",
      "(4, 10)\n"
     ]
    }
   ],
   "source": [
    "# A simple example to see what the yield from function will do\n",
    "A = range(5)\n",
    "B = range(6, 11)\n",
    "\n",
    "# Without yield from\n",
    "def temp(range1, range2):\n",
    "    for a, b in zip(range1, range2):\n",
    "        yield a, b\n",
    "        \n",
    "# Two loops!! You need two loops!!\n",
    "for i in temp(A, B):\n",
    "    print(i)"
   ]
  },
  {
   "cell_type": "code",
   "execution_count": 32,
   "metadata": {},
   "outputs": [
    {
     "name": "stdout",
     "output_type": "stream",
     "text": [
      "(0, 6)\n",
      "(1, 7)\n",
      "(2, 8)\n",
      "(3, 9)\n",
      "(4, 10)\n"
     ]
    }
   ],
   "source": [
    "# After Python 3.3 and existance of yield from\n",
    "def yieldfromexample(A, B):\n",
    "    yield from zip(A, B)\n",
    "for i in yieldfromexample(A, B):\n",
    "    print(i)"
   ]
  },
  {
   "cell_type": "markdown",
   "metadata": {},
   "source": [
    "`Yield from` is especially useful when you have multiple iterators, recursive data structures"
   ]
  },
  {
   "cell_type": "markdown",
   "metadata": {},
   "source": [
    "## Write the next parts on your own\n",
    "- Step 5 : Calculate distance between the two consecutive points\n",
    "- Step 6 : Put it all together"
   ]
  },
  {
   "cell_type": "code",
   "execution_count": 33,
   "metadata": {
    "collapsed": true
   },
   "outputs": [],
   "source": [
    "# Step 5: Calculate euclidean distance\n",
    "import math\n",
    "\n",
    "\n",
    "def getdist(xy):\n",
    "    \"\"\"  \n",
    "    Write a generator function that recieves \n",
    "    the previous and next x-y location of the fish \n",
    "    and calculates the distance between the two points\n",
    "    \n",
    "    Euclidean distance between two points (x1, y1) and (x2, y2) is \n",
    "    sqrt((x1-x2)^2 + (y1-y2)^2)\n",
    "   \"\"\""
   ]
  },
  {
   "cell_type": "code",
   "execution_count": 39,
   "metadata": {},
   "outputs": [],
   "source": [
    "# Step 6: Put it all together\n",
    "def getframes(dist, threshold, frames_per_sec):\n",
    "    \"\"\"\n",
    "    Count frames with distance below a user-defined threshold and\n",
    "    complete the print statement given below\n",
    "    (Hint: use enumerate to find number of frames)\n",
    "    \n",
    "    Example:\n",
    "    Of 16.27 seconds recording time, time spent with speed less than 10 is 12.83 seconds\n",
    "    \"\"\"\n",
    "    \n",
    "    print('Of {:0.2f} seconds recording time, time spent with speed less than {} is {:0.2f} seconds')"
   ]
  },
  {
   "cell_type": "markdown",
   "metadata": {},
   "source": [
    "### Task 2: Solution\n",
    "Will be inserted here"
   ]
  },
  {
   "cell_type": "code",
   "execution_count": 40,
   "metadata": {},
   "outputs": [
    {
     "name": "stdout",
     "output_type": "stream",
     "text": [
      "Working on: Fish1\n",
      "Of {:0.2f} seconds recording time, time spent with speed less than {} is {:0.2f} seconds\n",
      "Working on: Fish6\n",
      "Of {:0.2f} seconds recording time, time spent with speed less than {} is {:0.2f} seconds\n"
     ]
    }
   ],
   "source": [
    "# Test your code with larger datasets\n",
    "dirname = '/Users/seetha/Desktop/Microbetest/Collective/'\n",
    "for files in CSVfileGrabber(dirname):\n",
    "    getframes(\n",
    "        getdist(\n",
    "            consecutivexy1(\n",
    "                readxy(files))), threshold=10, frames_per_sec=30)"
   ]
  },
  {
   "cell_type": "markdown",
   "metadata": {},
   "source": [
    "## The above statement that calls multiple generators looks ugly. <br> \n",
    "In such cases, with multiple genertors lined up, yield can start to feel unintuitive and tedious\n",
    "\n",
    "Enter Toolz\n",
    "<br> Toolz by Matt Rocklin - http://toolz.readthedocs.io/en/latest/\n",
    "<br> It makes streaming super easy - intuitive and concise !\n",
    "\n",
    "For more examples and explanation from Elegant Scipy written by the brilliant ASPP faculty - https://github.com/elegant-scipy/notebooks/blob/master/notebooks/ch8.ipynb\n",
    "\n",
    "(Filed under things I can't believe I hardly used before this tutorial)"
   ]
  },
  {
   "cell_type": "code",
   "execution_count": 41,
   "metadata": {
    "collapsed": true
   },
   "outputs": [],
   "source": [
    "import toolz as tz"
   ]
  },
  {
   "cell_type": "markdown",
   "metadata": {},
   "source": [
    "#### tz.pipe - passes a value through a sequence of functions - one by one\n",
    "Pipe is simply syntactic sugar to make multiple function calls easy"
   ]
  },
  {
   "cell_type": "code",
   "execution_count": 42,
   "metadata": {
    "collapsed": true
   },
   "outputs": [],
   "source": [
    "# This will do exactly as the previous call (without the added brackets)\n",
    "# The function calls are cleaner and can be read from left to right - which is sooo much better\n",
    "def pipeline(filename):\n",
    "    pipe = tz.pipe(filename,\n",
    "                readxy,\n",
    "                consecutivexy1,\n",
    "                getdist,\n",
    "                getframes(threshold=10, frames_per_sec=30)\n",
    "               )\n",
    "    return pipe"
   ]
  },
  {
   "cell_type": "code",
   "execution_count": 43,
   "metadata": {},
   "outputs": [
    {
     "name": "stdout",
     "output_type": "stream",
     "text": [
      "Working on: Fish1\n"
     ]
    },
    {
     "ename": "TypeError",
     "evalue": "getframes() missing 1 required positional argument: 'dist'",
     "output_type": "error",
     "traceback": [
      "\u001b[0;31m---------------------------------------------------------------------------\u001b[0m",
      "\u001b[0;31mTypeError\u001b[0m                                 Traceback (most recent call last)",
      "\u001b[0;32m<ipython-input-43-a1b1a951dbaf>\u001b[0m in \u001b[0;36m<module>\u001b[0;34m()\u001b[0m\n\u001b[1;32m      1\u001b[0m \u001b[0mdirname\u001b[0m \u001b[0;34m=\u001b[0m \u001b[0;34m'/Users/seetha/Desktop/Microbetest/Collective/'\u001b[0m\u001b[0;34m\u001b[0m\u001b[0m\n\u001b[1;32m      2\u001b[0m \u001b[0;32mfor\u001b[0m \u001b[0mi\u001b[0m \u001b[0;32min\u001b[0m \u001b[0mCSVfileGrabber\u001b[0m\u001b[0;34m(\u001b[0m\u001b[0mdirname\u001b[0m\u001b[0;34m)\u001b[0m\u001b[0;34m:\u001b[0m\u001b[0;34m\u001b[0m\u001b[0m\n\u001b[0;32m----> 3\u001b[0;31m     \u001b[0mpipeline\u001b[0m\u001b[0;34m(\u001b[0m\u001b[0mi\u001b[0m\u001b[0;34m)\u001b[0m\u001b[0;34m\u001b[0m\u001b[0m\n\u001b[0m",
      "\u001b[0;32m<ipython-input-42-57674a720946>\u001b[0m in \u001b[0;36mpipeline\u001b[0;34m(filename)\u001b[0m\n\u001b[1;32m      6\u001b[0m                 \u001b[0mconsecutivexy1\u001b[0m\u001b[0;34m,\u001b[0m\u001b[0;34m\u001b[0m\u001b[0m\n\u001b[1;32m      7\u001b[0m                 \u001b[0mgetdist\u001b[0m\u001b[0;34m,\u001b[0m\u001b[0;34m\u001b[0m\u001b[0m\n\u001b[0;32m----> 8\u001b[0;31m                 \u001b[0mgetframes\u001b[0m\u001b[0;34m(\u001b[0m\u001b[0mthreshold\u001b[0m\u001b[0;34m=\u001b[0m\u001b[0;36m10\u001b[0m\u001b[0;34m,\u001b[0m \u001b[0mframes_per_sec\u001b[0m\u001b[0;34m=\u001b[0m\u001b[0;36m30\u001b[0m\u001b[0;34m)\u001b[0m\u001b[0;34m\u001b[0m\u001b[0m\n\u001b[0m\u001b[1;32m      9\u001b[0m                )\n\u001b[1;32m     10\u001b[0m     \u001b[0;32mreturn\u001b[0m \u001b[0mpipe\u001b[0m\u001b[0;34m\u001b[0m\u001b[0m\n",
      "\u001b[0;31mTypeError\u001b[0m: getframes() missing 1 required positional argument: 'dist'"
     ]
    }
   ],
   "source": [
    "dirname = '/Users/seetha/Desktop/Microbetest/Collective/'\n",
    "for i in CSVfileGrabber(dirname):\n",
    "    pipeline(i)"
   ]
  }
 ],
 "metadata": {
  "kernelspec": {
   "display_name": "Python 3",
   "language": "python",
   "name": "python3"
  },
  "language_info": {
   "codemirror_mode": {
    "name": "ipython",
    "version": 3
   },
   "file_extension": ".py",
   "mimetype": "text/x-python",
   "name": "python",
   "nbconvert_exporter": "python",
   "pygments_lexer": "ipython3",
   "version": "3.6.3"
  },
  "toc": {
   "nav_menu": {},
   "number_sections": false,
   "sideBar": true,
   "skip_h1_title": false,
   "toc_cell": false,
   "toc_position": {},
   "toc_section_display": "block",
   "toc_window_display": true
  }
 },
 "nbformat": 4,
 "nbformat_minor": 2
}
