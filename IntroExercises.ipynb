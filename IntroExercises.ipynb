{
 "cells": [
  {
   "cell_type": "markdown",
   "metadata": {},
   "source": [
    "# Understanding Iterators and Generators"
   ]
  },
  {
   "cell_type": "markdown",
   "metadata": {},
   "source": [
    "## Iterators\n",
    "An iterator is basically any python type that lets you loop over a object, say using a `for` loop\n",
    "\n",
    "What they allows you to do is :\n",
    "- Have a cleaner code\n",
    "- Save resources\n",
    "\n",
    "Here is an example of a `for` loop"
   ]
  },
  {
   "cell_type": "code",
   "execution_count": 3,
   "metadata": {},
   "outputs": [
    {
     "name": "stdout",
     "output_type": "stream",
     "text": [
      "[0, 1, 2, 3, 4]\n"
     ]
    }
   ],
   "source": [
    "# range(5) itself is an iterator object, list is used to be able to print it\n",
    "numbers = list(range(5))\n",
    "print(numbers)"
   ]
  },
  {
   "cell_type": "code",
   "execution_count": 4,
   "metadata": {},
   "outputs": [
    {
     "name": "stdout",
     "output_type": "stream",
     "text": [
      "0\n",
      "1\n",
      "2\n",
      "3\n",
      "4\n"
     ]
    }
   ],
   "source": [
    "for i in numbers:\n",
    "    print(i)"
   ]
  },
  {
   "cell_type": "markdown",
   "metadata": {},
   "source": [
    "In this example, the __range(5)__ is the iterable object that provides, at each iteration, a different value that is assigned to the \"i\" variable."
   ]
  },
  {
   "cell_type": "markdown",
   "metadata": {},
   "source": [
    "In Python, an iterator is an object which implements the iterator protocol. \n",
    "- \\__iter\\__ : This returns the iterator object itself\n",
    "- next() : This returns the next value. And the _StopIteration_ error once all the objects have been looped through.\n",
    "\n",
    "When you use a loop to iterate over the iterator, you don’t need to call next and you also don’t have to worry about the StopIteration exception being raised.\n",
    "\n",
    "Using these functions, we can create our own iterator"
   ]
  },
  {
   "cell_type": "code",
   "execution_count": 5,
   "metadata": {},
   "outputs": [
    {
     "name": "stdout",
     "output_type": "stream",
     "text": [
      "<list_iterator object at 0x11b505828>\n"
     ]
    }
   ],
   "source": [
    "it = iter(numbers)\n",
    "print(it)"
   ]
  },
  {
   "cell_type": "code",
   "execution_count": 6,
   "metadata": {},
   "outputs": [
    {
     "name": "stdout",
     "output_type": "stream",
     "text": [
      "0\n",
      "1\n"
     ]
    }
   ],
   "source": [
    "print(next(it))\n",
    "print(next(it))"
   ]
  },
  {
   "cell_type": "code",
   "execution_count": 7,
   "metadata": {},
   "outputs": [
    {
     "name": "stdout",
     "output_type": "stream",
     "text": [
      "[2, 3, 4]\n"
     ]
    }
   ],
   "source": [
    "print(list(it))"
   ]
  },
  {
   "cell_type": "code",
   "execution_count": 8,
   "metadata": {},
   "outputs": [
    {
     "ename": "StopIteration",
     "evalue": "",
     "output_type": "error",
     "traceback": [
      "\u001b[0;31m---------------------------------------------------------------------------\u001b[0m",
      "\u001b[0;31mStopIteration\u001b[0m                             Traceback (most recent call last)",
      "\u001b[0;32m<ipython-input-8-5ee05cead6f5>\u001b[0m in \u001b[0;36m<module>\u001b[0;34m()\u001b[0m\n\u001b[0;32m----> 1\u001b[0;31m \u001b[0mnext\u001b[0m\u001b[0;34m(\u001b[0m\u001b[0mit\u001b[0m\u001b[0;34m)\u001b[0m \u001b[0;31m#StopIteration Error\u001b[0m\u001b[0;34m\u001b[0m\u001b[0m\n\u001b[0m",
      "\u001b[0;31mStopIteration\u001b[0m: "
     ]
    }
   ],
   "source": [
    "next(it) #StopIteration Error"
   ]
  },
  {
   "cell_type": "markdown",
   "metadata": {},
   "source": [
    "Iterator objects can also be strings"
   ]
  },
  {
   "cell_type": "code",
   "execution_count": 9,
   "metadata": {},
   "outputs": [
    {
     "name": "stdout",
     "output_type": "stream",
     "text": [
      "p\n",
      "y\n",
      "['t', 'h', 'o', 'n']\n"
     ]
    }
   ],
   "source": [
    "string = 'python'\n",
    "it = iter(string)\n",
    "print(next(it))\n",
    "print(next(it))\n",
    "print(list(it))"
   ]
  },
  {
   "cell_type": "code",
   "execution_count": 10,
   "metadata": {},
   "outputs": [
    {
     "name": "stdout",
     "output_type": "stream",
     "text": [
      "p y t h o n "
     ]
    }
   ],
   "source": [
    "for i in string:\n",
    "    print(i, end=\" \")"
   ]
  },
  {
   "cell_type": "markdown",
   "metadata": {},
   "source": [
    "You can loop through multiple lists using zip"
   ]
  },
  {
   "cell_type": "code",
   "execution_count": 11,
   "metadata": {},
   "outputs": [
    {
     "name": "stdout",
     "output_type": "stream",
     "text": [
      "0 a\n",
      "1 b\n",
      "2 c\n"
     ]
    }
   ],
   "source": [
    "for i, x in zip(range(3), 'abc'):  # I think zip is a type of generator function ?\n",
    "    print(i, x)"
   ]
  },
  {
   "cell_type": "markdown",
   "metadata": {},
   "source": [
    "You can use `break` to exit `for` loop"
   ]
  },
  {
   "cell_type": "code",
   "execution_count": 12,
   "metadata": {},
   "outputs": [
    {
     "name": "stdout",
     "output_type": "stream",
     "text": [
      "0\n",
      "1\n",
      "2\n"
     ]
    }
   ],
   "source": [
    "for i in range(4000):\n",
    "    print(i)\n",
    "    if i >= 2:\n",
    "        break"
   ]
  },
  {
   "cell_type": "markdown",
   "metadata": {},
   "source": [
    "### Building an iterator from scratch"
   ]
  },
  {
   "cell_type": "code",
   "execution_count": 13,
   "metadata": {
    "collapsed": true
   },
   "outputs": [],
   "source": [
    "class simple_iterator:\n",
    "    def __init__(self, maxnumber):\n",
    "        self.maxnumber = maxnumber\n",
    "        self.current = 0\n",
    "\n",
    "    def __iter__(self):\n",
    "        return self\n",
    "\n",
    "    def __next__(self):\n",
    "        next_value = self.current\n",
    "        if next_value >= self.maxnumber:\n",
    "            raise StopIteration\n",
    "        self.current += 1\n",
    "        return next_value"
   ]
  },
  {
   "cell_type": "code",
   "execution_count": 14,
   "metadata": {},
   "outputs": [
    {
     "ename": "NameError",
     "evalue": "name 'build_a_simple_iterator' is not defined",
     "output_type": "error",
     "traceback": [
      "\u001b[0;31m---------------------------------------------------------------------------\u001b[0m",
      "\u001b[0;31mNameError\u001b[0m                                 Traceback (most recent call last)",
      "\u001b[0;32m<ipython-input-14-c4b04211c45b>\u001b[0m in \u001b[0;36m<module>\u001b[0;34m()\u001b[0m\n\u001b[0;32m----> 1\u001b[0;31m \u001b[0;32mfor\u001b[0m \u001b[0mi\u001b[0m \u001b[0;32min\u001b[0m \u001b[0mbuild_a_simple_iterator\u001b[0m\u001b[0;34m(\u001b[0m\u001b[0;36m3\u001b[0m\u001b[0;34m)\u001b[0m\u001b[0;34m:\u001b[0m\u001b[0;34m\u001b[0m\u001b[0m\n\u001b[0m\u001b[1;32m      2\u001b[0m     \u001b[0mprint\u001b[0m\u001b[0;34m(\u001b[0m\u001b[0mi\u001b[0m\u001b[0;34m)\u001b[0m\u001b[0;34m\u001b[0m\u001b[0m\n",
      "\u001b[0;31mNameError\u001b[0m: name 'build_a_simple_iterator' is not defined"
     ]
    }
   ],
   "source": [
    "for i in build_a_simple_iterator(3):\n",
    "    print(i)"
   ]
  },
  {
   "cell_type": "markdown",
   "metadata": {},
   "source": [
    "## Find frame rate of your webcam using iterators : Excercise 1"
   ]
  },
  {
   "cell_type": "code",
   "execution_count": 15,
   "metadata": {
    "code_folding": []
   },
   "outputs": [],
   "source": [
    "import cv2  # Opencv library to read images from webcam\n",
    "import datetime\n",
    "\n",
    "class open_webcam_images:\n",
    "    def __init__(self, maxframes):\n",
    "        # Captures videos from the webcam\n",
    "        self.video_capture = cv2.VideoCapture(0)\n",
    "        self.elapsedtime = 0\n",
    "        self.maxframes = 10\n",
    "        self.currentframe = 0\n",
    "        self.starttime = datetime.datetime.now()\n",
    "\n",
    "    def __iter__(self):\n",
    "        return self\n",
    "\n",
    "    def __next__(self):\n",
    "        if self.currentframe >= self.maxframes:\n",
    "            raise StopIteration\n",
    "\n",
    "        _, frame = self.video_capture.read()\n",
    "        self.elapsedtime = (datetime.datetime.now() -\n",
    "                            self.starttime).total_seconds()\n",
    "        self.currentframe += 1\n",
    "\n",
    "        return self.elapsedtime, self.currentframe\n",
    "\n",
    "    def __exit__(self):\n",
    "        self.video_capture.release()"
   ]
  },
  {
   "cell_type": "code",
   "execution_count": 16,
   "metadata": {},
   "outputs": [
    {
     "name": "stdout",
     "output_type": "stream",
     "text": [
      "Frame number 1 : Elapsedtime 0.045989\n",
      "Frame number 2 : Elapsedtime 0.112813\n",
      "Frame number 3 : Elapsedtime 0.177216\n",
      "Frame number 4 : Elapsedtime 0.242821\n",
      "Frame number 5 : Elapsedtime 0.308351\n",
      "Frame number 6 : Elapsedtime 0.420149\n",
      "Frame number 7 : Elapsedtime 0.473905\n",
      "Frame number 8 : Elapsedtime 0.544556\n",
      "Frame number 9 : Elapsedtime 0.608873\n",
      "Frame number 10 : Elapsedtime 0.668832\n"
     ]
    },
    {
     "data": {
      "text/plain": [
       "'Frame rate of your webcam is 14.951 frames/second'"
      ]
     },
     "execution_count": 16,
     "metadata": {},
     "output_type": "execute_result"
    }
   ],
   "source": [
    "framestocapture = 10\n",
    "for i in open_webcam_images(framestocapture):\n",
    "    elapsedtime = i[0]\n",
    "    print('Frame number {} : Elapsedtime {}'.format(i[1], i[0]))\n",
    "    \n",
    "# Find frame rate using elapsed time\n",
    "framerate = framestocapture/i[0]\n",
    "f'Frame rate of your webcam is {framerate:0.3f} frames/second'"
   ]
  },
  {
   "cell_type": "markdown",
   "metadata": {},
   "source": [
    "## Generators\n",
    "Generators are just a simple form of iterators. A function that **_yields_** values.  They are a nice and compact way of building an iterator without actually building an iterator. \n",
    "\n",
    "The __yield__ keyword used to define generators takes care of \\__iter__\\() and next() for you.\n",
    "\n",
    "__Generators are a readable shortcut for creating iterators.__"
   ]
  },
  {
   "cell_type": "code",
   "execution_count": 17,
   "metadata": {
    "collapsed": true
   },
   "outputs": [],
   "source": [
    "def simple_generator_function():\n",
    "    yield 0\n",
    "    yield 1\n",
    "    yield 2"
   ]
  },
  {
   "cell_type": "code",
   "execution_count": 18,
   "metadata": {},
   "outputs": [
    {
     "name": "stdout",
     "output_type": "stream",
     "text": [
      "<generator object simple_generator_function at 0x11d8c84c0>\n"
     ]
    }
   ],
   "source": [
    "our_generator = simple_generator_function()\n",
    "print(our_generator)"
   ]
  },
  {
   "cell_type": "code",
   "execution_count": 19,
   "metadata": {},
   "outputs": [
    {
     "name": "stdout",
     "output_type": "stream",
     "text": [
      "0\n",
      "1\n",
      "2\n"
     ]
    }
   ],
   "source": [
    "print(next(our_generator))\n",
    "print(next(our_generator))\n",
    "print(next(our_generator))"
   ]
  },
  {
   "cell_type": "code",
   "execution_count": 20,
   "metadata": {},
   "outputs": [
    {
     "name": "stdout",
     "output_type": "stream",
     "text": [
      "0\n",
      "1\n",
      "2\n"
     ]
    }
   ],
   "source": [
    "for i in simple_generator_function():\n",
    "    print(i)"
   ]
  },
  {
   "cell_type": "markdown",
   "metadata": {},
   "source": [
    "### Python Generators with a loop"
   ]
  },
  {
   "cell_type": "code",
   "execution_count": 21,
   "metadata": {},
   "outputs": [],
   "source": [
    "def simple_generator_function(number):\n",
    "    for ii in range(number):\n",
    "        yield ii"
   ]
  },
  {
   "cell_type": "code",
   "execution_count": 22,
   "metadata": {},
   "outputs": [
    {
     "name": "stdout",
     "output_type": "stream",
     "text": [
      "0\n",
      "1\n",
      "2\n"
     ]
    }
   ],
   "source": [
    "for i in simple_generator_function(3):\n",
    "    print(i)"
   ]
  },
  {
   "cell_type": "markdown",
   "metadata": {},
   "source": [
    "### That frame rate example with generators - "
   ]
  },
  {
   "cell_type": "code",
   "execution_count": 2,
   "metadata": {},
   "outputs": [
    {
     "name": "stdout",
     "output_type": "stream",
     "text": [
      "Frame number 1 : Elapsedtime 0.046793\n",
      "Frame number 2 : Elapsedtime 0.111734\n",
      "Frame number 3 : Elapsedtime 0.177725\n",
      "Frame number 4 : Elapsedtime 0.243822\n",
      "Frame number 5 : Elapsedtime 0.310854\n",
      "Frame number 6 : Elapsedtime 0.408983\n",
      "Frame number 7 : Elapsedtime 0.476029\n",
      "Frame number 8 : Elapsedtime 0.542221\n",
      "Frame number 9 : Elapsedtime 0.608098\n",
      "Frame number 10 : Elapsedtime 0.672981\n"
     ]
    },
    {
     "data": {
      "text/plain": [
       "'Frame rate of your webcam is 14.859 frames/second'"
      ]
     },
     "execution_count": 2,
     "metadata": {},
     "output_type": "execute_result"
    }
   ],
   "source": [
    "import cv2\n",
    "import datetime\n",
    "import numpy as np\n",
    "\n",
    "\n",
    "def open_webcam_images(video_capture, maxframes):\n",
    "    for ii in range(maxframes):\n",
    "        _, frame = video_capture.read()\n",
    "        yield frame\n",
    "\n",
    "\n",
    "def find_framerate(maxframes):\n",
    "    video_capture = cv2.VideoCapture(0)\n",
    "    framenumber = 0\n",
    "    starttime = datetime.datetime.now()\n",
    "\n",
    "    for frame in open_webcam_images(video_capture, maxframes):\n",
    "        elapsedtime = (datetime.datetime.now() - starttime).total_seconds()\n",
    "        framenumber+=1\n",
    "        print('Frame number {} : Elapsedtime {}'.format(framenumber, elapsedtime))\n",
    "\n",
    "    video_capture.release()\n",
    "    return elapsedtime\n",
    "\n",
    "\n",
    "framestocapture = 10\n",
    "elapsedtime = find_framerate(framestocapture)\n",
    "\n",
    "# Find frame rate using elapsed time\n",
    "framerate = framestocapture / elapsedtime\n",
    "f'Frame rate of your webcam is {framerate:0.3f} frames/second'"
   ]
  }
 ],
 "metadata": {
  "kernelspec": {
   "display_name": "Python 3",
   "language": "python",
   "name": "python3"
  },
  "language_info": {
   "codemirror_mode": {
    "name": "ipython",
    "version": 3
   },
   "file_extension": ".py",
   "mimetype": "text/x-python",
   "name": "python",
   "nbconvert_exporter": "python",
   "pygments_lexer": "ipython3",
   "version": "3.6.3"
  }
 },
 "nbformat": 4,
 "nbformat_minor": 2
}
