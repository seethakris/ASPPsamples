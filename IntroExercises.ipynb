{
 "cells": [
  {
   "cell_type": "markdown",
   "metadata": {},
   "source": [
    "# Understanding Iterators and Generators"
   ]
  },
  {
   "cell_type": "markdown",
   "metadata": {},
   "source": [
    "## Iterators\n",
    "An iterator is basically any python type that lets you loop over a object, say using a `for` loop\n",
    "\n",
    "What they allows you to do is :\n",
    "- Have a cleaner code\n",
    "- Save resources\n",
    "\n",
    "Here is an example of a `for` loop"
   ]
  },
  {
   "cell_type": "code",
   "execution_count": null,
   "metadata": {},
   "outputs": [],
   "source": [
    "# range(5) itself is an iterator object, list is used to be able to print it\n",
    "numbers = list(range(5))\n",
    "print(numbers)"
   ]
  },
  {
   "cell_type": "code",
   "execution_count": null,
   "metadata": {},
   "outputs": [],
   "source": [
    "for i in numbers:\n",
    "    print(i)"
   ]
  },
  {
   "cell_type": "markdown",
   "metadata": {},
   "source": [
    "In this example, the __range(5)__ is the iterable object that provides, at each iteration, a different value that is assigned to the \"i\" variable."
   ]
  },
  {
   "cell_type": "markdown",
   "metadata": {},
   "source": [
    "In Python, an iterator is an object which implements the iterator protocol. \n",
    "- \\__iter\\__ : This returns the iterator object itself\n",
    "- next() : This returns the next value. And the _StopIteration_ error once all the objects have been looped through.\n",
    "\n",
    "When you use a loop to iterate over the iterator, you don’t need to call next and you also don’t have to worry about the StopIteration exception being raised.\n",
    "\n",
    "Using these functions, we can create our own iterator"
   ]
  },
  {
   "cell_type": "code",
   "execution_count": null,
   "metadata": {},
   "outputs": [],
   "source": [
    "it = iter(numbers)\n",
    "print(it)"
   ]
  },
  {
   "cell_type": "code",
   "execution_count": null,
   "metadata": {},
   "outputs": [],
   "source": [
    "print(next(it))\n",
    "print(next(it))"
   ]
  },
  {
   "cell_type": "code",
   "execution_count": null,
   "metadata": {},
   "outputs": [],
   "source": [
    "print(list(it))"
   ]
  },
  {
   "cell_type": "code",
   "execution_count": null,
   "metadata": {},
   "outputs": [],
   "source": [
    "next(it) #StopIteration Error"
   ]
  },
  {
   "cell_type": "markdown",
   "metadata": {},
   "source": [
    "Iterator objects can also be strings"
   ]
  },
  {
   "cell_type": "code",
   "execution_count": null,
   "metadata": {},
   "outputs": [],
   "source": [
    "string = 'python'\n",
    "it = iter(string)\n",
    "print(next(it))\n",
    "print(next(it))\n",
    "print(list(it))"
   ]
  },
  {
   "cell_type": "code",
   "execution_count": null,
   "metadata": {},
   "outputs": [],
   "source": [
    "for i in string:\n",
    "    print(i, end=\" \")"
   ]
  },
  {
   "cell_type": "markdown",
   "metadata": {},
   "source": [
    "You can loop through multiple lists using zip"
   ]
  },
  {
   "cell_type": "code",
   "execution_count": null,
   "metadata": {},
   "outputs": [],
   "source": [
    "for i, x in zip(range(3), 'abc'):  # I think zip is a type of generator function ?\n",
    "    print(i, x)"
   ]
  },
  {
   "cell_type": "markdown",
   "metadata": {},
   "source": [
    "You can use `break` to exit `for` loop"
   ]
  },
  {
   "cell_type": "code",
   "execution_count": null,
   "metadata": {},
   "outputs": [],
   "source": [
    "for i in range(4000):\n",
    "    print(i)\n",
    "    if i >= 2:\n",
    "        break"
   ]
  },
  {
   "cell_type": "markdown",
   "metadata": {},
   "source": [
    "### Building an iterator from scratch"
   ]
  },
  {
   "cell_type": "code",
   "execution_count": null,
   "metadata": {
    "collapsed": true
   },
   "outputs": [],
   "source": [
    "class simple_iterator:\n",
    "    def __init__(self, maxnumber):\n",
    "        self.maxnumber = maxnumber\n",
    "        self.current = 0\n",
    "\n",
    "    def __iter__(self):\n",
    "        return self\n",
    "\n",
    "    def __next__(self):\n",
    "        next_value = self.current\n",
    "        if next_value >= self.maxnumber:\n",
    "            raise StopIteration\n",
    "        self.current += 1\n",
    "        return next_value"
   ]
  },
  {
   "cell_type": "code",
   "execution_count": null,
   "metadata": {},
   "outputs": [],
   "source": [
    "for i in simple_iterator(3):\n",
    "    print(i)"
   ]
  },
  {
   "cell_type": "markdown",
   "metadata": {},
   "source": [
    "## Excercise 1: Find frame rate of your webcam using iterators"
   ]
  },
  {
   "cell_type": "code",
   "execution_count": null,
   "metadata": {
    "code_folding": []
   },
   "outputs": [],
   "source": [
    "import cv2  # Opencv library to read images from webcam\n",
    "import datetime\n",
    "\n",
    "class open_webcam_images:\n",
    "    def __init__(self, maxframes):\n",
    "        # Captures videos from the webcam\n",
    "        self.video_capture = cv2.VideoCapture(0)\n",
    "        self.elapsedtime = 0\n",
    "        self.maxframes = 10\n",
    "        self.currentframe = 0\n",
    "        self.starttime = datetime.datetime.now()\n",
    "\n",
    "    def __iter__(self):\n",
    "        return self\n",
    "\n",
    "    def __next__(self):\n",
    "        if self.currentframe >= self.maxframes:\n",
    "            raise StopIteration\n",
    "\n",
    "        _, frame = self.video_capture.read()\n",
    "        self.elapsedtime = (datetime.datetime.now() -\n",
    "                            self.starttime).total_seconds()\n",
    "        self.currentframe += 1\n",
    "\n",
    "        return self.elapsedtime, self.currentframe\n",
    "\n",
    "    def __exit__(self):\n",
    "        self.video_capture.release()"
   ]
  },
  {
   "cell_type": "code",
   "execution_count": null,
   "metadata": {},
   "outputs": [],
   "source": [
    "framestocapture = 10\n",
    "for i in open_webcam_images(framestocapture):\n",
    "    elapsedtime = i[0]\n",
    "    print('Frame number {} : Elapsedtime {}'.format(i[1], i[0]))\n",
    "    \n",
    "# Find frame rate using elapsed time\n",
    "framerate = framestocapture/i[0]\n",
    "f'Frame rate of your webcam is {framerate:0.3f} frames/second'"
   ]
  },
  {
   "cell_type": "markdown",
   "metadata": {
    "code_folding": []
   },
   "source": [
    "## Generators\n",
    "Generators are just a simple form of iterators. A function that **_yields_** values.  They are a nice and compact way of building an iterator without actually building an iterator. \n",
    "\n",
    "The __yield__ keyword used to define generators takes care of \\__iter__\\() and next() for you.\n",
    "\n",
    "__Generators are a readable shortcut for creating iterators.__"
   ]
  },
  {
   "cell_type": "code",
   "execution_count": null,
   "metadata": {
    "collapsed": true
   },
   "outputs": [],
   "source": [
    "def simple_generator_function():\n",
    "    yield 0\n",
    "    yield 1\n",
    "    yield 2"
   ]
  },
  {
   "cell_type": "code",
   "execution_count": null,
   "metadata": {},
   "outputs": [],
   "source": [
    "our_generator = simple_generator_function()\n",
    "print(our_generator)"
   ]
  },
  {
   "cell_type": "code",
   "execution_count": null,
   "metadata": {},
   "outputs": [],
   "source": [
    "print(next(our_generator))\n",
    "print(next(our_generator))\n",
    "print(next(our_generator))"
   ]
  },
  {
   "cell_type": "code",
   "execution_count": null,
   "metadata": {},
   "outputs": [],
   "source": [
    "for i in simple_generator_function():\n",
    "    print(i)"
   ]
  },
  {
   "cell_type": "markdown",
   "metadata": {},
   "source": [
    "### Python Generators with a loop"
   ]
  },
  {
   "cell_type": "code",
   "execution_count": null,
   "metadata": {},
   "outputs": [],
   "source": [
    "def simple_generator_function(number):\n",
    "    for ii in range(number):\n",
    "        yield ii"
   ]
  },
  {
   "cell_type": "code",
   "execution_count": null,
   "metadata": {},
   "outputs": [],
   "source": [
    "for i in simple_generator_function(3):\n",
    "    print(i)"
   ]
  },
  {
   "cell_type": "markdown",
   "metadata": {},
   "source": [
    "### That frame rate example with generators"
   ]
  },
  {
   "cell_type": "code",
   "execution_count": null,
   "metadata": {},
   "outputs": [],
   "source": [
    "import cv2\n",
    "import datetime\n",
    "import numpy as np\n",
    "\n",
    "\n",
    "def open_webcam_images(video_capture, maxframes):\n",
    "    for ii in range(maxframes):\n",
    "        _, frame = video_capture.read()\n",
    "        yield frame\n",
    "\n",
    "\n",
    "def find_framerate(maxframes):\n",
    "    video_capture = cv2.VideoCapture(0)\n",
    "    framenumber = 0\n",
    "    starttime = datetime.datetime.now()\n",
    "\n",
    "    for frame in open_webcam_images(video_capture, maxframes):\n",
    "        elapsedtime = (datetime.datetime.now() - starttime).total_seconds()\n",
    "        framenumber+=1\n",
    "        print('Frame number {} : Elapsedtime {}'.format(framenumber, elapsedtime))\n",
    "\n",
    "    video_capture.release()\n",
    "    return elapsedtime\n",
    "\n",
    "\n",
    "framestocapture = 10\n",
    "elapsedtime = find_framerate(framestocapture)\n",
    "\n",
    "# Find frame rate using elapsed time\n",
    "framerate = framestocapture / elapsedtime\n",
    "f'Frame rate of your webcam is {framerate:0.3f} frames/second'"
   ]
  },
  {
   "cell_type": "markdown",
   "metadata": {},
   "source": [
    "## Excercise 2: Create sliding windows\n",
    "Say you want to detect objects in an image using something fancy like machine learning, an easy thing to do is to take a window and slide it over your image and analyse contents of that window - inspired by pyimagesearch.com"
   ]
  },
  {
   "cell_type": "code",
   "execution_count": 15,
   "metadata": {
    "code_folding": [],
    "collapsed": true
   },
   "outputs": [],
   "source": [
    "def sliding_window(image, stepsize, windowsize):\n",
    "    # slide a window across the image\n",
    "    for y in range(0, image.shape[0], stepsize):\n",
    "        for x in range(0, image.shape[1], stepsize):\n",
    "            # yield the current window\n",
    "            yield (x, y, image[y:y + windowsize[1], x:x + windowsize[0]])"
   ]
  },
  {
   "cell_type": "code",
   "execution_count": 35,
   "metadata": {},
   "outputs": [
    {
     "data": {
      "image/png": "[encoded data removed]",
      "text/plain": [
       "<matplotlib.figure.Figure at 0x123e94cf8>"
      ]
     },
     "metadata": {},
     "output_type": "display_data"
    }
   ],
   "source": [
    "import numpy as np\n",
    "import matplotlib.pyplot as plt\n",
    "import cv2\n",
    "import time\n",
    "from IPython import display\n",
    "%matplotlib inline\n",
    "\n",
    "img = np.zeros([80,80,3],dtype=np.uint8) #Ceate an empty array\n",
    "(winW, winH) = (20, 20) #Define height of sliding window\n",
    "\n",
    "for (x, y, window) in sliding_window(img, stepsize=20, windowsize=(winW, winH)):\n",
    "    rectimg = img.copy()\n",
    "    cv2.rectangle(rectimg, (x, y), (x + winW, y + winH), (0, 255, 0), 1)\n",
    "     #You can write some Machine learning or object detection codes here\n",
    "    plt.imshow(rectimg)\n",
    "    plt.draw()\n",
    "    display.clear_output(wait=True) #This clears the display and wait for next output\n",
    "    display.display(plt.gcf())\n",
    "    plt.close()"
   ]
  }
 ],
 "metadata": {
  "kernelspec": {
   "display_name": "Python 3",
   "language": "python",
   "name": "python3"
  }
 },
 "nbformat": 4,
 "nbformat_minor": 2
}
